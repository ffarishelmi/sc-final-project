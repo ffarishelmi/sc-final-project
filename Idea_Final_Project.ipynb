{
  "cells": [
    {
      "cell_type": "markdown",
      "metadata": {
        "id": "P7ZkgnnHKqex"
      },
      "source": [
        "# **1. Business Understanding**"
      ]
    },
    {
      "cell_type": "markdown",
      "metadata": {
        "id": "ZE319SrJKxm8"
      },
      "source": [
        "blablabla.....................\n",
        "\n",
        "**Tujuan**\n",
        "* Memprediksi jenis pelanggan yang berpotensi melakukan churn dengan mengidentifikasi fitur-fitur untuk meminimalkan tingkat churn pelanggan dan mendapatkan keputusan bisnis yang tepat.\n",
        "\n",
        "**Sasaran**\n",
        "*   Membuat model untuk memprediksi pengguna yang berpotensi melakukan churn dan memahami fitur apa saja yang menyebabkan pengguna melakukan churn serta fitur yang memacu potensi untuk meminimalisir tingkat churn.\n",
        "\n",
        "*   blabla\n",
        "\n",
        "\n"
      ]
    },
    {
      "cell_type": "markdown",
      "metadata": {
        "id": "JZJqg-rkqoqQ"
      },
      "source": [
        "note -> bole diganti klo emng kurang ya"
      ]
    },
    {
      "cell_type": "markdown",
      "metadata": {
        "id": "SMRfw7vzLCpo"
      },
      "source": [
        "# **Import Library**"
      ]
    },
    {
      "cell_type": "code",
      "execution_count": 1,
      "metadata": {
        "id": "OGCJMJOEbEVT"
      },
      "outputs": [],
      "source": [
        "import pandas as pd\n",
        "import numpy as np\n",
        "import datetime\n",
        "import ast\n",
        "from ast import literal_eval\n",
        "import seaborn as sns\n",
        "import matplotlib.pyplot as plt\n",
        "from sklearn.preprocessing import StandardScaler\n",
        "from sklearn.preprocessing import LabelEncoder\n",
        "from sklearn.tree import DecisionTreeClassifier\n",
        "from sklearn.linear_model import LogisticRegression\n",
        "from sklearn import metrics\n",
        "from sklearn.metrics import roc_curve\n",
        "from sklearn.metrics import recall_score, confusion_matrix, precision_score, f1_score, accuracy_score, classification_report, roc_auc_score, balanced_accuracy_score\n",
        "from sklearn.model_selection import GridSearchCV\n",
        "from sklearn.model_selection import RandomizedSearchCV\n",
        "from sklearn.preprocessing import StandardScaler\n",
        "from sklearn.model_selection import cross_val_score\n",
        "from scipy.stats import uniform\n",
        "from sklearn.datasets import make_classification\n",
        "from sklearn.model_selection import train_test_split\n",
        "from sklearn.feature_selection import SelectFromModel"
      ]
    },
    {
      "cell_type": "markdown",
      "metadata": {
        "id": "cg07kZpb1ISY"
      },
      "source": [
        "# **2. Data Preparation**"
      ]
    },
    {
      "cell_type": "markdown",
      "metadata": {
        "id": "oMktNTfTXpGM"
      },
      "source": [
        "## Load Dataset"
      ]
    },
    {
      "cell_type": "code",
      "execution_count": null,
      "metadata": {
        "colab": {
          "base_uri": "https://localhost:8080/"
        },
        "id": "xi3QvbX11PQr",
        "outputId": "5170ed14-96bb-40ea-ffdb-770022a992fd"
      },
      "outputs": [],
      "source": [
        "#from google.colab import drive\n",
        "#drive.mount('/content/drive')"
      ]
    },
    {
      "cell_type": "code",
      "execution_count": null,
      "metadata": {
        "colab": {
          "base_uri": "https://localhost:8080/"
        },
        "id": "LiIlXBDC1QhD",
        "outputId": "408df8c6-4d07-4a3c-b038-6fc1e90606b4"
      },
      "outputs": [],
      "source": [
        "#!unzip drive/MyDrive/dataset/SAMPLE/data.zip\n",
        "#!unzip drive/MyDrive/dataset/dataset.zip"
      ]
    },
    {
      "cell_type": "code",
      "execution_count": null,
      "metadata": {
        "id": "UHC3KiHrbzA0"
      },
      "outputs": [],
      "source": [
        "# click = pd.read_csv('/content/drive/MyDrive/dataset/SAMPLE/click_stream_1_percent_sample.csv')\n",
        "# customer = pd.read_csv('/content/drive/MyDrive/dataset/SAMPLE/customer_1_percent_sample.csv')\n",
        "# product = pd.read_csv('/content/drive/MyDrive/dataset/SAMPLE/product_1_percent_sample.csv', usecols=['id', 'gender', 'masterCategory', 'subCategory', 'articleType', 'baseColour', 'season', 'year', 'usage', 'productDisplayName'])\n",
        "# transactions = pd.read_csv('/content/drive/MyDrive/dataset/SAMPLE/transaction_1_percent_sample.csv')\n",
        "\n",
        "#click = pd.read_csv('/content/drive/MyDrive/dataset/click_stream.csv')\n",
        "#customer = pd.read_csv('/content/drive/MyDrive/dataset/customer.csv')\n",
        "#product = pd.read_csv('/content/drive/MyDrive/dataset/product.csv', usecols=['id', 'gender', 'masterCategory', 'subCategory', 'articleType', 'baseColour', 'season', 'year', 'usage', 'productDisplayName'])\n",
        "#transactions = pd.read_csv('/content/drive/MyDrive/dataset/transactions.csv')"
      ]
    },
    {
      "cell_type": "code",
      "execution_count": 2,
      "metadata": {},
      "outputs": [],
      "source": [
        "click = pd.read_csv('/home/faris/dataset/click_stream.csv')\n",
        "customer = pd.read_csv('/home/faris/dataset/customer.csv')\n",
        "product = pd.read_csv('/home/faris/dataset/product.csv', usecols=['id', 'gender', 'masterCategory', 'subCategory', 'articleType', 'baseColour', 'season', 'year', 'usage', 'productDisplayName'])\n",
        "transactions = pd.read_csv('/home/faris/dataset/transactions.csv')"
      ]
    },
    {
      "cell_type": "code",
      "execution_count": 3,
      "metadata": {},
      "outputs": [],
      "source": [
        "pd.set_option('display.max_columns', None)"
      ]
    },
    {
      "cell_type": "markdown",
      "metadata": {
        "id": "8zf5BOpgi1TM"
      },
      "source": [
        "## EDA ( Exploratory Data  Analysis)\n",
        "\n",
        "Data Wrangling"
      ]
    },
    {
      "cell_type": "markdown",
      "metadata": {
        "id": "rJBoIluaNVVL"
      },
      "source": [
        "### Transaction Dataset"
      ]
    },
    {
      "cell_type": "code",
      "execution_count": 4,
      "metadata": {
        "id": "7z3BH3xithFM"
      },
      "outputs": [],
      "source": [
        "# mengubah tipe data ke kategori dan date\n",
        "transactions[['payment_method', 'payment_status', 'promo_code']] = transactions[['payment_method', 'payment_status', 'promo_code']].astype('category')\n",
        "transactions['shipment_date_limit'] = pd.to_datetime(transactions['shipment_date_limit'])\n",
        "transactions['created_at'] = pd.to_datetime(transactions['created_at'])"
      ]
    },
    {
      "cell_type": "code",
      "execution_count": 5,
      "metadata": {
        "colab": {
          "base_uri": "https://localhost:8080/",
          "height": 486
        },
        "id": "ZoTxaDn03xAV",
        "outputId": "cc127d4c-dbdc-4dbb-9c6e-65fef9b64233"
      },
      "outputs": [
        {
          "data": {
            "text/html": [
              "<div>\n",
              "<style scoped>\n",
              "    .dataframe tbody tr th:only-of-type {\n",
              "        vertical-align: middle;\n",
              "    }\n",
              "\n",
              "    .dataframe tbody tr th {\n",
              "        vertical-align: top;\n",
              "    }\n",
              "\n",
              "    .dataframe thead th {\n",
              "        text-align: right;\n",
              "    }\n",
              "</style>\n",
              "<table border=\"1\" class=\"dataframe\">\n",
              "  <thead>\n",
              "    <tr style=\"text-align: right;\">\n",
              "      <th></th>\n",
              "      <th>created_at</th>\n",
              "      <th>customer_id</th>\n",
              "      <th>booking_id</th>\n",
              "      <th>session_id</th>\n",
              "      <th>payment_method</th>\n",
              "      <th>payment_status</th>\n",
              "      <th>promo_amount</th>\n",
              "      <th>promo_code</th>\n",
              "      <th>shipment_fee</th>\n",
              "      <th>shipment_date_limit</th>\n",
              "      <th>shipment_location_lat</th>\n",
              "      <th>shipment_location_long</th>\n",
              "      <th>total_amount</th>\n",
              "      <th>product_id</th>\n",
              "      <th>quantity</th>\n",
              "      <th>item_price</th>\n",
              "    </tr>\n",
              "  </thead>\n",
              "  <tbody>\n",
              "    <tr>\n",
              "      <th>0</th>\n",
              "      <td>2018-07-29 15:22:01.458193+00:00</td>\n",
              "      <td>5868</td>\n",
              "      <td>186e2bee-0637-4710-8981-50c2d737bc42</td>\n",
              "      <td>3abaa6ce-e320-4e51-9469-d9f3fa328e86</td>\n",
              "      <td>Debit Card</td>\n",
              "      <td>Success</td>\n",
              "      <td>1415</td>\n",
              "      <td>WEEKENDSERU</td>\n",
              "      <td>10000</td>\n",
              "      <td>2018-08-03 05:07:24.812676+00:00</td>\n",
              "      <td>-8.227893</td>\n",
              "      <td>111.969107</td>\n",
              "      <td>199832</td>\n",
              "      <td>54728</td>\n",
              "      <td>1</td>\n",
              "      <td>191247</td>\n",
              "    </tr>\n",
              "    <tr>\n",
              "      <th>1</th>\n",
              "      <td>2018-07-30 12:40:22.365620+00:00</td>\n",
              "      <td>4774</td>\n",
              "      <td>caadb57b-e808-4f94-9e96-8a7d4c9898db</td>\n",
              "      <td>2ee5ead1-f13e-4759-92df-7ff48475e970</td>\n",
              "      <td>Credit Card</td>\n",
              "      <td>Success</td>\n",
              "      <td>0</td>\n",
              "      <td>NaN</td>\n",
              "      <td>10000</td>\n",
              "      <td>2018-08-03 01:29:03.415705+00:00</td>\n",
              "      <td>3.013470</td>\n",
              "      <td>107.802514</td>\n",
              "      <td>155526</td>\n",
              "      <td>16193</td>\n",
              "      <td>1</td>\n",
              "      <td>145526</td>\n",
              "    </tr>\n",
              "    <tr>\n",
              "      <th>2</th>\n",
              "      <td>2018-09-15 11:51:17.365620+00:00</td>\n",
              "      <td>4774</td>\n",
              "      <td>6000fffb-9c1a-4f4a-9296-bc8f6b622b50</td>\n",
              "      <td>93325fb6-eb00-4268-bb0e-6471795a0ad0</td>\n",
              "      <td>OVO</td>\n",
              "      <td>Success</td>\n",
              "      <td>0</td>\n",
              "      <td>NaN</td>\n",
              "      <td>10000</td>\n",
              "      <td>2018-09-18 08:41:49.422380+00:00</td>\n",
              "      <td>-2.579428</td>\n",
              "      <td>115.743885</td>\n",
              "      <td>550696</td>\n",
              "      <td>53686</td>\n",
              "      <td>4</td>\n",
              "      <td>135174</td>\n",
              "    </tr>\n",
              "    <tr>\n",
              "      <th>3</th>\n",
              "      <td>2018-11-01 11:23:48.365620+00:00</td>\n",
              "      <td>4774</td>\n",
              "      <td>f5e530a7-4350-4cd1-a3bc-525b5037bcab</td>\n",
              "      <td>bcad5a61-1b67-448d-8ff4-781d67bc56e4</td>\n",
              "      <td>Credit Card</td>\n",
              "      <td>Success</td>\n",
              "      <td>0</td>\n",
              "      <td>NaN</td>\n",
              "      <td>0</td>\n",
              "      <td>2018-11-05 17:42:27.954235+00:00</td>\n",
              "      <td>-3.602334</td>\n",
              "      <td>120.363824</td>\n",
              "      <td>271012</td>\n",
              "      <td>20228</td>\n",
              "      <td>1</td>\n",
              "      <td>271012</td>\n",
              "    </tr>\n",
              "    <tr>\n",
              "      <th>4</th>\n",
              "      <td>2018-12-18 11:20:30.365620+00:00</td>\n",
              "      <td>4774</td>\n",
              "      <td>0efc0594-dbbf-4f9a-b0b0-a488cfddf8a2</td>\n",
              "      <td>df1042ab-13e6-4072-b9d2-64a81974c51a</td>\n",
              "      <td>Credit Card</td>\n",
              "      <td>Success</td>\n",
              "      <td>0</td>\n",
              "      <td>NaN</td>\n",
              "      <td>0</td>\n",
              "      <td>2018-12-23 17:24:07.361785+00:00</td>\n",
              "      <td>-3.602334</td>\n",
              "      <td>120.363824</td>\n",
              "      <td>198753</td>\n",
              "      <td>55220</td>\n",
              "      <td>1</td>\n",
              "      <td>198753</td>\n",
              "    </tr>\n",
              "  </tbody>\n",
              "</table>\n",
              "</div>"
            ],
            "text/plain": [
              "                        created_at  customer_id  \\\n",
              "0 2018-07-29 15:22:01.458193+00:00         5868   \n",
              "1 2018-07-30 12:40:22.365620+00:00         4774   \n",
              "2 2018-09-15 11:51:17.365620+00:00         4774   \n",
              "3 2018-11-01 11:23:48.365620+00:00         4774   \n",
              "4 2018-12-18 11:20:30.365620+00:00         4774   \n",
              "\n",
              "                             booking_id                            session_id  \\\n",
              "0  186e2bee-0637-4710-8981-50c2d737bc42  3abaa6ce-e320-4e51-9469-d9f3fa328e86   \n",
              "1  caadb57b-e808-4f94-9e96-8a7d4c9898db  2ee5ead1-f13e-4759-92df-7ff48475e970   \n",
              "2  6000fffb-9c1a-4f4a-9296-bc8f6b622b50  93325fb6-eb00-4268-bb0e-6471795a0ad0   \n",
              "3  f5e530a7-4350-4cd1-a3bc-525b5037bcab  bcad5a61-1b67-448d-8ff4-781d67bc56e4   \n",
              "4  0efc0594-dbbf-4f9a-b0b0-a488cfddf8a2  df1042ab-13e6-4072-b9d2-64a81974c51a   \n",
              "\n",
              "  payment_method payment_status  promo_amount   promo_code  shipment_fee  \\\n",
              "0     Debit Card        Success          1415  WEEKENDSERU         10000   \n",
              "1    Credit Card        Success             0          NaN         10000   \n",
              "2            OVO        Success             0          NaN         10000   \n",
              "3    Credit Card        Success             0          NaN             0   \n",
              "4    Credit Card        Success             0          NaN             0   \n",
              "\n",
              "               shipment_date_limit  shipment_location_lat  \\\n",
              "0 2018-08-03 05:07:24.812676+00:00              -8.227893   \n",
              "1 2018-08-03 01:29:03.415705+00:00               3.013470   \n",
              "2 2018-09-18 08:41:49.422380+00:00              -2.579428   \n",
              "3 2018-11-05 17:42:27.954235+00:00              -3.602334   \n",
              "4 2018-12-23 17:24:07.361785+00:00              -3.602334   \n",
              "\n",
              "   shipment_location_long  total_amount  product_id  quantity  item_price  \n",
              "0              111.969107        199832       54728         1      191247  \n",
              "1              107.802514        155526       16193         1      145526  \n",
              "2              115.743885        550696       53686         4      135174  \n",
              "3              120.363824        271012       20228         1      271012  \n",
              "4              120.363824        198753       55220         1      198753  "
            ]
          },
          "execution_count": 5,
          "metadata": {},
          "output_type": "execute_result"
        }
      ],
      "source": [
        "# parsing metadata dari kolom product_metadata\n",
        "transactions['product_metadata'] = transactions['product_metadata'].fillna('{}')\n",
        "transactions['product_metadata'] = transactions['product_metadata'].apply(literal_eval)\n",
        "transactions = ( transactions.explode('product_metadata').reset_index(drop=True))\n",
        "transactions = pd.concat([transactions.drop(['product_metadata'], axis=1), pd.json_normalize(transactions['product_metadata'])], axis=1)\n",
        "\n",
        "transactions.head()"
      ]
    },
    {
      "cell_type": "code",
      "execution_count": 6,
      "metadata": {
        "colab": {
          "base_uri": "https://localhost:8080/"
        },
        "id": "CdhryidaZmYd",
        "outputId": "a97f7f3d-d8d6-481f-b24e-3ba5ab8fc697"
      },
      "outputs": [
        {
          "data": {
            "text/plain": [
              "(1254585, 16)"
            ]
          },
          "execution_count": 6,
          "metadata": {},
          "output_type": "execute_result"
        }
      ],
      "source": [
        "transactions.shape"
      ]
    },
    {
      "cell_type": "code",
      "execution_count": 7,
      "metadata": {
        "colab": {
          "base_uri": "https://localhost:8080/"
        },
        "id": "Dk6u-tzP5nCC",
        "outputId": "0457676b-a185-4f45-d1f8-166922f33711"
      },
      "outputs": [
        {
          "name": "stdout",
          "output_type": "stream",
          "text": [
            "<class 'pandas.core.frame.DataFrame'>\n",
            "RangeIndex: 1254585 entries, 0 to 1254584\n",
            "Data columns (total 16 columns):\n",
            " #   Column                  Non-Null Count    Dtype              \n",
            "---  ------                  --------------    -----              \n",
            " 0   created_at              1254585 non-null  datetime64[ns, UTC]\n",
            " 1   customer_id             1254585 non-null  int64              \n",
            " 2   booking_id              1254585 non-null  object             \n",
            " 3   session_id              1254585 non-null  object             \n",
            " 4   payment_method          1254585 non-null  category           \n",
            " 5   payment_status          1254585 non-null  category           \n",
            " 6   promo_amount            1254585 non-null  int64              \n",
            " 7   promo_code              481139 non-null   category           \n",
            " 8   shipment_fee            1254585 non-null  int64              \n",
            " 9   shipment_date_limit     1254585 non-null  datetime64[ns, UTC]\n",
            " 10  shipment_location_lat   1254585 non-null  float64            \n",
            " 11  shipment_location_long  1254585 non-null  float64            \n",
            " 12  total_amount            1254585 non-null  int64              \n",
            " 13  product_id              1254585 non-null  int64              \n",
            " 14  quantity                1254585 non-null  int64              \n",
            " 15  item_price              1254585 non-null  int64              \n",
            "dtypes: category(3), datetime64[ns, UTC](2), float64(2), int64(7), object(2)\n",
            "memory usage: 128.0+ MB\n"
          ]
        }
      ],
      "source": [
        "transactions.info()"
      ]
    },
    {
      "cell_type": "code",
      "execution_count": 8,
      "metadata": {
        "colab": {
          "base_uri": "https://localhost:8080/",
          "height": 320
        },
        "id": "gREY2C_L52YB",
        "outputId": "dfb90e24-ba57-40e5-ad2f-55bc216270c0"
      },
      "outputs": [
        {
          "data": {
            "text/html": [
              "<div>\n",
              "<style scoped>\n",
              "    .dataframe tbody tr th:only-of-type {\n",
              "        vertical-align: middle;\n",
              "    }\n",
              "\n",
              "    .dataframe tbody tr th {\n",
              "        vertical-align: top;\n",
              "    }\n",
              "\n",
              "    .dataframe thead th {\n",
              "        text-align: right;\n",
              "    }\n",
              "</style>\n",
              "<table border=\"1\" class=\"dataframe\">\n",
              "  <thead>\n",
              "    <tr style=\"text-align: right;\">\n",
              "      <th></th>\n",
              "      <th>customer_id</th>\n",
              "      <th>promo_amount</th>\n",
              "      <th>shipment_fee</th>\n",
              "      <th>shipment_location_lat</th>\n",
              "      <th>shipment_location_long</th>\n",
              "      <th>total_amount</th>\n",
              "      <th>product_id</th>\n",
              "      <th>quantity</th>\n",
              "      <th>item_price</th>\n",
              "    </tr>\n",
              "  </thead>\n",
              "  <tbody>\n",
              "    <tr>\n",
              "      <th>count</th>\n",
              "      <td>1.254585e+06</td>\n",
              "      <td>1.254585e+06</td>\n",
              "      <td>1.254585e+06</td>\n",
              "      <td>1.254585e+06</td>\n",
              "      <td>1.254585e+06</td>\n",
              "      <td>1.254585e+06</td>\n",
              "      <td>1.254585e+06</td>\n",
              "      <td>1.254585e+06</td>\n",
              "      <td>1.254585e+06</td>\n",
              "    </tr>\n",
              "    <tr>\n",
              "      <th>mean</th>\n",
              "      <td>4.980987e+04</td>\n",
              "      <td>2.046875e+03</td>\n",
              "      <td>9.190860e+03</td>\n",
              "      <td>-5.111930e+00</td>\n",
              "      <td>1.109800e+02</td>\n",
              "      <td>1.181574e+06</td>\n",
              "      <td>2.970114e+04</td>\n",
              "      <td>1.475128e+00</td>\n",
              "      <td>2.499744e+05</td>\n",
              "    </tr>\n",
              "    <tr>\n",
              "      <th>std</th>\n",
              "      <td>2.900057e+04</td>\n",
              "      <td>3.068618e+03</td>\n",
              "      <td>9.371999e+03</td>\n",
              "      <td>3.080204e+00</td>\n",
              "      <td>6.400801e+00</td>\n",
              "      <td>1.728940e+06</td>\n",
              "      <td>1.705351e+04</td>\n",
              "      <td>1.590220e+00</td>\n",
              "      <td>1.118733e+05</td>\n",
              "    </tr>\n",
              "    <tr>\n",
              "      <th>min</th>\n",
              "      <td>3.000000e+00</td>\n",
              "      <td>0.000000e+00</td>\n",
              "      <td>0.000000e+00</td>\n",
              "      <td>-1.099552e+01</td>\n",
              "      <td>9.503073e+01</td>\n",
              "      <td>1.089800e+04</td>\n",
              "      <td>1.163000e+03</td>\n",
              "      <td>1.000000e+00</td>\n",
              "      <td>5.600000e+03</td>\n",
              "    </tr>\n",
              "    <tr>\n",
              "      <th>25%</th>\n",
              "      <td>2.447800e+04</td>\n",
              "      <td>0.000000e+00</td>\n",
              "      <td>0.000000e+00</td>\n",
              "      <td>-7.375628e+00</td>\n",
              "      <td>1.068633e+02</td>\n",
              "      <td>2.466450e+05</td>\n",
              "      <td>1.477600e+04</td>\n",
              "      <td>1.000000e+00</td>\n",
              "      <td>1.683730e+05</td>\n",
              "    </tr>\n",
              "    <tr>\n",
              "      <th>50%</th>\n",
              "      <td>4.957700e+04</td>\n",
              "      <td>0.000000e+00</td>\n",
              "      <td>1.000000e+04</td>\n",
              "      <td>-6.242058e+00</td>\n",
              "      <td>1.101724e+02</td>\n",
              "      <td>4.558770e+05</td>\n",
              "      <td>2.861400e+04</td>\n",
              "      <td>1.000000e+00</td>\n",
              "      <td>2.335400e+05</td>\n",
              "    </tr>\n",
              "    <tr>\n",
              "      <th>75%</th>\n",
              "      <td>7.494800e+04</td>\n",
              "      <td>3.998000e+03</td>\n",
              "      <td>1.000000e+04</td>\n",
              "      <td>-3.090132e+00</td>\n",
              "      <td>1.132200e+02</td>\n",
              "      <td>1.360496e+06</td>\n",
              "      <td>4.469500e+04</td>\n",
              "      <td>1.000000e+00</td>\n",
              "      <td>3.136470e+05</td>\n",
              "    </tr>\n",
              "    <tr>\n",
              "      <th>max</th>\n",
              "      <td>9.999900e+04</td>\n",
              "      <td>2.451900e+04</td>\n",
              "      <td>5.000000e+04</td>\n",
              "      <td>5.874791e+00</td>\n",
              "      <td>1.410061e+02</td>\n",
              "      <td>2.350449e+07</td>\n",
              "      <td>6.000000e+04</td>\n",
              "      <td>4.800000e+01</td>\n",
              "      <td>1.200357e+06</td>\n",
              "    </tr>\n",
              "  </tbody>\n",
              "</table>\n",
              "</div>"
            ],
            "text/plain": [
              "        customer_id  promo_amount  shipment_fee  shipment_location_lat  \\\n",
              "count  1.254585e+06  1.254585e+06  1.254585e+06           1.254585e+06   \n",
              "mean   4.980987e+04  2.046875e+03  9.190860e+03          -5.111930e+00   \n",
              "std    2.900057e+04  3.068618e+03  9.371999e+03           3.080204e+00   \n",
              "min    3.000000e+00  0.000000e+00  0.000000e+00          -1.099552e+01   \n",
              "25%    2.447800e+04  0.000000e+00  0.000000e+00          -7.375628e+00   \n",
              "50%    4.957700e+04  0.000000e+00  1.000000e+04          -6.242058e+00   \n",
              "75%    7.494800e+04  3.998000e+03  1.000000e+04          -3.090132e+00   \n",
              "max    9.999900e+04  2.451900e+04  5.000000e+04           5.874791e+00   \n",
              "\n",
              "       shipment_location_long  total_amount    product_id      quantity  \\\n",
              "count            1.254585e+06  1.254585e+06  1.254585e+06  1.254585e+06   \n",
              "mean             1.109800e+02  1.181574e+06  2.970114e+04  1.475128e+00   \n",
              "std              6.400801e+00  1.728940e+06  1.705351e+04  1.590220e+00   \n",
              "min              9.503073e+01  1.089800e+04  1.163000e+03  1.000000e+00   \n",
              "25%              1.068633e+02  2.466450e+05  1.477600e+04  1.000000e+00   \n",
              "50%              1.101724e+02  4.558770e+05  2.861400e+04  1.000000e+00   \n",
              "75%              1.132200e+02  1.360496e+06  4.469500e+04  1.000000e+00   \n",
              "max              1.410061e+02  2.350449e+07  6.000000e+04  4.800000e+01   \n",
              "\n",
              "         item_price  \n",
              "count  1.254585e+06  \n",
              "mean   2.499744e+05  \n",
              "std    1.118733e+05  \n",
              "min    5.600000e+03  \n",
              "25%    1.683730e+05  \n",
              "50%    2.335400e+05  \n",
              "75%    3.136470e+05  \n",
              "max    1.200357e+06  "
            ]
          },
          "execution_count": 8,
          "metadata": {},
          "output_type": "execute_result"
        }
      ],
      "source": [
        "transactions.describe()"
      ]
    },
    {
      "cell_type": "code",
      "execution_count": 9,
      "metadata": {
        "colab": {
          "base_uri": "https://localhost:8080/"
        },
        "id": "Lc2L3TdQ5xZT",
        "outputId": "7882c91c-85ca-413a-f29f-7fd94245f457"
      },
      "outputs": [
        {
          "data": {
            "text/plain": [
              "created_at                     0\n",
              "customer_id                    0\n",
              "booking_id                     0\n",
              "session_id                     0\n",
              "payment_method                 0\n",
              "payment_status                 0\n",
              "promo_amount                   0\n",
              "promo_code                773446\n",
              "shipment_fee                   0\n",
              "shipment_date_limit            0\n",
              "shipment_location_lat          0\n",
              "shipment_location_long         0\n",
              "total_amount                   0\n",
              "product_id                     0\n",
              "quantity                       0\n",
              "item_price                     0\n",
              "dtype: int64"
            ]
          },
          "execution_count": 9,
          "metadata": {},
          "output_type": "execute_result"
        }
      ],
      "source": [
        "transactions.isnull().sum()"
      ]
    },
    {
      "cell_type": "code",
      "execution_count": 10,
      "metadata": {
        "colab": {
          "base_uri": "https://localhost:8080/"
        },
        "id": "yonKdxdX6Txt",
        "outputId": "2030d3a4-0933-43eb-a331-443b0ae418f6"
      },
      "outputs": [
        {
          "data": {
            "text/plain": [
              "0"
            ]
          },
          "execution_count": 10,
          "metadata": {},
          "output_type": "execute_result"
        }
      ],
      "source": [
        "transactions.duplicated().sum()"
      ]
    },
    {
      "cell_type": "markdown",
      "metadata": {
        "id": "5pLepYygtvk9"
      },
      "source": [
        "### Click Stream Dataset"
      ]
    },
    {
      "cell_type": "code",
      "execution_count": 12,
      "metadata": {
        "id": "1K6RgPWMt2aF"
      },
      "outputs": [],
      "source": [
        "# mengubah tipe data ke kategori dan date\n",
        "click[['event_name', 'traffic_source']] = click[['event_name', 'traffic_source']].astype('category')\n",
        "click['event_time'] = pd.to_datetime(click['event_time'])"
      ]
    },
    {
      "cell_type": "code",
      "execution_count": 13,
      "metadata": {
        "colab": {
          "base_uri": "https://localhost:8080/"
        },
        "id": "6sAtEhUxzkLj",
        "outputId": "a49751ac-d2fc-4ecc-b6c2-2940a06f738c"
      },
      "outputs": [
        {
          "data": {
            "text/plain": [
              "{'item_price',\n",
              " 'payment_status',\n",
              " 'product_id',\n",
              " 'promo_amount',\n",
              " 'promo_code',\n",
              " 'quantity',\n",
              " 'search_keywords'}"
            ]
          },
          "execution_count": 13,
          "metadata": {},
          "output_type": "execute_result"
        }
      ],
      "source": [
        "# parsing metadata dari kolom event_metadata\n",
        "def parse_event_metadata(row):\n",
        "  if pd.isnull(row) or row == '':\n",
        "    return {}\n",
        "  return ast.literal_eval(row)\n",
        "\n",
        "click['event_metadata'] = click['event_metadata'].apply(parse_event_metadata)\n",
        "\n",
        "metadata_keys = set()\n",
        "\n",
        "def extract_keys(row):\n",
        "  for key in row.keys():\n",
        "    metadata_keys.add(key)\n",
        "\n",
        "click['event_metadata'].apply(extract_keys)\n",
        "metadata_keys"
      ]
    },
    {
      "cell_type": "code",
      "execution_count": null,
      "metadata": {
        "colab": {
          "base_uri": "https://localhost:8080/",
          "height": 486
        },
        "id": "BoI1sEmr869R",
        "outputId": "f38f282c-9e93-40c9-e5ef-568ae62aacba"
      },
      "outputs": [],
      "source": [
        "click['product_id'] = click['event_metadata'].apply(lambda x: x.get('product_id'))\n",
        "click['quantity'] = click['event_metadata'].apply(lambda x: x.get('quantity'))\n",
        "click['item_price'] = click['event_metadata'].apply(lambda x: x.get('item_price'))\n",
        "click['payment_status'] = click['event_metadata'].apply(lambda x: x.get('payment_status'))\n",
        "click['product_amount'] = click['event_metadata'].apply(lambda x: x.get('product_amount'))\n",
        "click['promo_code'] = click['event_metadata'].apply(lambda x: x.get('promo_code'))\n",
        "click['search_keywords'] = click['event_metadata'].apply(lambda x: x.get('search_keywords'))\n",
        "# Menghapus kolom event_metadata asli\n",
        "click.drop(columns=['event_metadata'], inplace=True)\n",
        "click.head()"
      ]
    },
    {
      "cell_type": "code",
      "execution_count": null,
      "metadata": {
        "colab": {
          "base_uri": "https://localhost:8080/"
        },
        "id": "_75lv_rYBFc2",
        "outputId": "ff07ccd8-4e2f-4044-ac88-665f7fe08ee2"
      },
      "outputs": [],
      "source": [
        "click_selected = ['event_name', 'traffic_source', 'payment_status', 'promo_code', 'search_keywords']\n",
        "\n",
        "for col_name in click_selected:\n",
        "    print(col_name)\n",
        "    print(click[col_name].unique())\n",
        "    print('\\n')"
      ]
    },
    {
      "cell_type": "code",
      "execution_count": null,
      "metadata": {
        "id": "rNS569_gxwWi"
      },
      "outputs": [],
      "source": [
        "# mengubah tipe data kategori\n",
        "click[['payment_status', 'search_keywords', 'promo_code']] = click[['payment_status', 'search_keywords', 'promo_code']].astype('category')"
      ]
    },
    {
      "cell_type": "code",
      "execution_count": null,
      "metadata": {
        "colab": {
          "base_uri": "https://localhost:8080/"
        },
        "id": "GGem9NAtyC-E",
        "outputId": "9b707b3d-0a7e-46b3-bee9-50c3a9a019c5"
      },
      "outputs": [],
      "source": [
        "click.info()"
      ]
    },
    {
      "cell_type": "code",
      "execution_count": null,
      "metadata": {
        "colab": {
          "base_uri": "https://localhost:8080/"
        },
        "id": "lRPvn2YIhNSi",
        "outputId": "14be014d-24d1-4aa3-ba91-6fc8f30438c7"
      },
      "outputs": [],
      "source": [
        "click.shape"
      ]
    },
    {
      "cell_type": "code",
      "execution_count": null,
      "metadata": {
        "colab": {
          "base_uri": "https://localhost:8080/",
          "height": 300
        },
        "id": "JpfIKKGl7l4k",
        "outputId": "225d16eb-df3b-44e8-f286-df76885c647a"
      },
      "outputs": [],
      "source": [
        "click.describe()"
      ]
    },
    {
      "cell_type": "code",
      "execution_count": null,
      "metadata": {
        "colab": {
          "base_uri": "https://localhost:8080/"
        },
        "id": "ZTDGKhxi7onI",
        "outputId": "5dd6b064-072d-4235-b294-a0f6dda8f64b"
      },
      "outputs": [],
      "source": [
        "click.isnull().sum()"
      ]
    },
    {
      "cell_type": "code",
      "execution_count": null,
      "metadata": {
        "colab": {
          "base_uri": "https://localhost:8080/"
        },
        "id": "ee4yKVU37vGA",
        "outputId": "c9b37862-ac22-41e4-8999-a1940907cc84"
      },
      "outputs": [],
      "source": [
        "click.duplicated().sum()"
      ]
    },
    {
      "cell_type": "markdown",
      "metadata": {
        "id": "IAfNy2mdWa6h"
      },
      "source": [
        "### Customer Dataset"
      ]
    },
    {
      "cell_type": "code",
      "execution_count": null,
      "metadata": {
        "colab": {
          "base_uri": "https://localhost:8080/",
          "height": 486
        },
        "id": "PX-MNFnpWoKC",
        "outputId": "ad1b8e7a-ab3a-4f1d-b5e9-aaee498e3659"
      },
      "outputs": [],
      "source": [
        "customer.head()"
      ]
    },
    {
      "cell_type": "code",
      "execution_count": null,
      "metadata": {
        "colab": {
          "base_uri": "https://localhost:8080/"
        },
        "id": "L-A5fbGYv_Xa",
        "outputId": "8d4e2f6f-9aaa-4e19-e788-55e6077f8dd5"
      },
      "outputs": [],
      "source": [
        "customer.info()"
      ]
    },
    {
      "cell_type": "code",
      "execution_count": null,
      "metadata": {
        "id": "W2bovYHbybeW"
      },
      "outputs": [],
      "source": [
        "# mengubah tipe data kategori dan date\n",
        "customer[['gender','device_type', 'device_version', 'home_location', 'home_country']] = customer[['gender','device_type', 'device_version', 'home_location', 'home_country']].astype('category')\n",
        "customer['birthdate'] = pd.to_datetime(customer['birthdate'])\n",
        "customer['first_join_date'] = pd.to_datetime(customer['first_join_date'])"
      ]
    },
    {
      "cell_type": "code",
      "execution_count": null,
      "metadata": {
        "colab": {
          "base_uri": "https://localhost:8080/"
        },
        "id": "kaaedExXylx-",
        "outputId": "06017f8f-110a-4195-8e40-f01cbd210ba2"
      },
      "outputs": [],
      "source": [
        "customer.info()"
      ]
    },
    {
      "cell_type": "code",
      "execution_count": null,
      "metadata": {
        "colab": {
          "base_uri": "https://localhost:8080/",
          "height": 300
        },
        "id": "cvg500HPWr3J",
        "outputId": "8907e63c-b055-45fb-ad94-2cba43df89c0"
      },
      "outputs": [],
      "source": [
        "customer.describe()"
      ]
    },
    {
      "cell_type": "code",
      "execution_count": null,
      "metadata": {
        "colab": {
          "base_uri": "https://localhost:8080/"
        },
        "id": "DX1Kf9wWWuHb",
        "outputId": "cee01d8c-28ab-49f5-ed6b-ddecf2985f3e"
      },
      "outputs": [],
      "source": [
        "customer.isnull().sum()"
      ]
    },
    {
      "cell_type": "code",
      "execution_count": null,
      "metadata": {
        "colab": {
          "base_uri": "https://localhost:8080/"
        },
        "id": "Avxcgh6hWv1x",
        "outputId": "a88c4f04-eebe-4d8a-943b-61b2555cfb03"
      },
      "outputs": [],
      "source": [
        "customer.duplicated().sum()"
      ]
    },
    {
      "cell_type": "markdown",
      "metadata": {
        "id": "mu1pV27bXxSj"
      },
      "source": [
        "### Product Dataset"
      ]
    },
    {
      "cell_type": "code",
      "execution_count": null,
      "metadata": {
        "colab": {
          "base_uri": "https://localhost:8080/",
          "height": 206
        },
        "id": "gLGOpD5zWx4K",
        "outputId": "a2f188d7-fb55-4d4e-f7f9-7c796d17141a"
      },
      "outputs": [],
      "source": [
        "product.head()"
      ]
    },
    {
      "cell_type": "code",
      "execution_count": null,
      "metadata": {
        "id": "fiKwxEsl96qF"
      },
      "outputs": [],
      "source": [
        "product.rename(columns={'id': 'product_id'}, inplace=True)"
      ]
    },
    {
      "cell_type": "code",
      "execution_count": null,
      "metadata": {
        "id": "ymFhhaTmyq_B"
      },
      "outputs": [],
      "source": [
        "# mengubah tipe data kategori dan date\n",
        "product[['gender', 'masterCategory', 'subCategory', 'articleType', 'baseColour', 'season', 'usage', 'productDisplayName']] = product[['gender', 'masterCategory', 'subCategory', 'articleType', 'baseColour', 'season', 'usage', 'productDisplayName']].astype('category')\n",
        "product['year'] = pd.to_datetime(product['year'])\n"
      ]
    },
    {
      "cell_type": "code",
      "execution_count": null,
      "metadata": {
        "colab": {
          "base_uri": "https://localhost:8080/"
        },
        "id": "6cZZUw8QysBd",
        "outputId": "87851294-f431-4616-b29f-5330369eb5af"
      },
      "outputs": [],
      "source": [
        "product.info()"
      ]
    },
    {
      "cell_type": "code",
      "execution_count": null,
      "metadata": {
        "colab": {
          "base_uri": "https://localhost:8080/",
          "height": 300
        },
        "id": "w6PNAqnKYBaH",
        "outputId": "e2fa6241-6d43-4343-fde9-c614f6dbe14e"
      },
      "outputs": [],
      "source": [
        "product.describe()"
      ]
    },
    {
      "cell_type": "code",
      "execution_count": null,
      "metadata": {
        "colab": {
          "base_uri": "https://localhost:8080/"
        },
        "id": "qScQ4z_TYDw7",
        "outputId": "fd3e2862-5f51-4485-a242-79ff96a3eeda"
      },
      "outputs": [],
      "source": [
        "product.isnull().sum()"
      ]
    },
    {
      "cell_type": "code",
      "execution_count": null,
      "metadata": {
        "colab": {
          "base_uri": "https://localhost:8080/"
        },
        "id": "tHWswgk-YFOS",
        "outputId": "5eb22660-d0eb-46b0-ccb8-c9d9a58baf80"
      },
      "outputs": [],
      "source": [
        "product.duplicated().sum()"
      ]
    },
    {
      "cell_type": "code",
      "execution_count": null,
      "metadata": {
        "colab": {
          "base_uri": "https://localhost:8080/"
        },
        "id": "yK9epX4Oy33m",
        "outputId": "da7b3611-fa2c-49d4-9f2c-d0db16e488b0"
      },
      "outputs": [],
      "source": [
        "transactions['payment_method'].unique()"
      ]
    },
    {
      "cell_type": "code",
      "execution_count": null,
      "metadata": {
        "colab": {
          "base_uri": "https://localhost:8080/"
        },
        "id": "X4RA4kKT1wo4",
        "outputId": "d0d9a022-b4d4-4bf0-e26a-a320452a7654"
      },
      "outputs": [],
      "source": [
        "transactions['payment_status'].unique()"
      ]
    },
    {
      "cell_type": "markdown",
      "metadata": {
        "id": "EdJsVZPvznPT"
      },
      "source": [
        "### Data  Visualization"
      ]
    },
    {
      "cell_type": "code",
      "execution_count": null,
      "metadata": {
        "id": "DtjC8qBx0Sdo"
      },
      "outputs": [],
      "source": [
        "# #Melihat Persebaran Customer\n",
        "# customer['home_location'].value_counts()[0:].plot(kind='bar')"
      ]
    },
    {
      "cell_type": "code",
      "execution_count": null,
      "metadata": {
        "id": "HFql61Ua0Wy9"
      },
      "outputs": [],
      "source": [
        "# #Melihat Persebaran Umur Customer\n",
        "# customer['umur'] = 2022-customer['birthdate'].dt.year\n",
        "# sns.distplot(customer['umur'])\n",
        "# plt.xlabel(\"umur customer\")\n",
        "# plt.show()"
      ]
    },
    {
      "cell_type": "code",
      "execution_count": null,
      "metadata": {
        "id": "HfmUJgawC19B"
      },
      "outputs": [],
      "source": [
        "# #Melihat Peresentase Persebaran Gender Customer\n",
        "# x = [\"Female\", \"Male\"]\n",
        "# a = customer[customer[\"gender\"] == \"F\"][\"gender\"].count()\n",
        "# b = customer[customer[\"gender\"] == \"M\"][\"gender\"].count()\n",
        "# y = np.array([a, b])\n",
        "# plt.figure(figsize=(5,4))\n",
        "# bar_colors = ['tab:red', 'tab:blue']\n",
        "# plt.pie(y, labels = x, colors = bar_colors, autopct='%1.1f%%')\n",
        "# plt.title(\"Persentase Gender Customer\")\n",
        "# plt.show()"
      ]
    },
    {
      "cell_type": "markdown",
      "metadata": {
        "id": "zBbGmrabgjce"
      },
      "source": [
        "Melihat distribusi device yang digunakan pelanggan"
      ]
    },
    {
      "cell_type": "code",
      "execution_count": null,
      "metadata": {
        "id": "z-uD_Bo8ANXo"
      },
      "outputs": [],
      "source": [
        "# # Sumber trafik\n",
        "# traffic_source_counts = click['traffic_source'].value_counts()\n",
        "\n",
        "# # Membuat visualisasi dengan grafik batang\n",
        "# plt.figure(figsize=(5, 3))\n",
        "# plt.bar(traffic_source_counts.index, traffic_source_counts.values)\n",
        "# plt.xlabel('Traffic Source')\n",
        "# plt.ylabel('Number of Events')\n",
        "# plt.title('Traffic Source Distribution')\n",
        "# plt.xticks(rotation=45)\n",
        "# plt.tight_layout()\n",
        "# plt.show()"
      ]
    },
    {
      "cell_type": "code",
      "execution_count": null,
      "metadata": {
        "id": "RVs571rMDBFS"
      },
      "outputs": [],
      "source": [
        "# #Melihat Presentase Tipe Device Customer\n",
        "# plt.figure(figsize=(6,4))\n",
        "# plt.pie(customer['device_type'].value_counts(),\n",
        "#         autopct=\"%1.1f%%\",\n",
        "#         labels=customer['device_type'].value_counts().index)\n",
        "# plt.title(\"Persentase Tipe Device Customer\")\n",
        "# plt.show()"
      ]
    },
    {
      "cell_type": "code",
      "execution_count": null,
      "metadata": {
        "id": "knui8IkzBXnW"
      },
      "outputs": [],
      "source": [
        "# # Melihat Jumlah Pelanggan Yang Bergabung Berdasarkan Tahun dan Bulan\n",
        "# date = customer.copy()\n",
        "# date['first_join_date'] = date['first_join_date'].astype('datetime64')\n",
        "\n",
        "# # partisi berdasarkan year dan month\n",
        "# date['year_join'] = date['first_join_date'].dt.year\n",
        "# date['month_join'] = date['first_join_date'].dt.month\n",
        "\n",
        "# month = date.groupby(['year_join', 'month_join']).agg(\n",
        "#     customers_join = pd.NamedAgg(column = 'month_join', aggfunc = sum))\n",
        "# month.reset_index(inplace=True)\n",
        "\n",
        "# sns.set(rc={\"figure.figsize\":(9, 4)})\n",
        "# sns.lineplot(data=month, x=\"month_join\", y=\"customers_join\", hue=\"year_join\", palette=\"deep\")"
      ]
    },
    {
      "cell_type": "code",
      "execution_count": null,
      "metadata": {
        "id": "Cdrq1_Am-BTi"
      },
      "outputs": [],
      "source": [
        "# #Melihat Presentase Kategori Terlaris\n",
        "# customer_product=transactions.merge(product[['product_id','masterCategory','subCategory','articleType','season']],on='product_id',how='left')\n",
        "# customer_product=customer_product.merge(customer[['customer_id','gender']],on='customer_id',how='left')\n",
        "\n",
        "# plt.figure(figsize=(6,4))\n",
        "# plt.pie(customer_product['masterCategory'].value_counts()[:5],\n",
        "#         autopct=\"%1.1f%%\",\n",
        "#         labels=customer_product['masterCategory'].value_counts()[:5].index)\n",
        "# plt.title(\"Persentase Kategori Terlaris\")\n",
        "# plt.show()"
      ]
    },
    {
      "cell_type": "code",
      "execution_count": null,
      "metadata": {
        "id": "MZu8ZCZB-Zhf"
      },
      "outputs": [],
      "source": [
        "# # Jenis pakaian yang paling banyak diminati oleh customer\n",
        "\n",
        "# topwear = customer_product[customer_product['subCategory'] == 'Topwear']\n",
        "# topwear.rename(columns = {\"articleType\":\"Clothes\"},inplace=True)\n",
        "# plt.figure(figsize=(10,5))\n",
        "# sns.countplot(x = 'Clothes',\n",
        "#               data = topwear,\n",
        "#               order = topwear['Clothes'].value_counts()[:10].index)\n",
        "# plt.title('Penjualan Pakaian Terlaris')"
      ]
    },
    {
      "cell_type": "code",
      "execution_count": null,
      "metadata": {
        "id": "fa1hz2CXDQ2T"
      },
      "outputs": [],
      "source": [
        "# #Melihat Presentasi Payment Method\n",
        "# plt.figure(figsize=(6,4))\n",
        "# plt.pie(transactions[\"payment_method\"].value_counts(),\n",
        "#         autopct=\"%1.1f%%\",\n",
        "#         labels=transactions['payment_method'].value_counts().index)\n",
        "# plt.title(\"Persentase Payment Method\")\n",
        "# plt.show()"
      ]
    },
    {
      "cell_type": "code",
      "execution_count": null,
      "metadata": {
        "id": "vsT7WxXWD5HV"
      },
      "outputs": [],
      "source": [
        "# plt.figure(figsize=(6,4))\n",
        "# plt.pie(click[\"traffic_source\"].value_counts(),\n",
        "#         autopct=\"%1.1f%%\",\n",
        "#         labels=click['traffic_source'].value_counts().index)\n",
        "# plt.title(\"Persentase Traffic Source\")\n",
        "# plt.show()"
      ]
    },
    {
      "cell_type": "markdown",
      "metadata": {
        "id": "hUWZcH2W7Fuz"
      },
      "source": [
        "Menganalisa presentase pelanggan yang sukses melakukan pembelian"
      ]
    },
    {
      "cell_type": "code",
      "execution_count": null,
      "metadata": {
        "id": "KGB9qsflfpCe"
      },
      "outputs": [],
      "source": [
        "# # Memfilter Transactions yang Memiliki Payment Status = Success\n",
        "# success = transactions.copy()\n",
        "# success = transactions[transactions['payment_status'] == 'Success']\n",
        "\n",
        "# total = customer['customer_id'].nunique() #Jumlah pelanggan terdaftar\n",
        "# trans_sukses = success['customer_id'].nunique() #Jumlah pelanggan yang memiliki setidaknya satu transaksi sukses\n",
        "# no_trans = total-trans_sukses # Jumlah pelanggan yang belum melakukan transaksi.\n",
        "\n",
        "# print('Jumlah customers terdaftar:', total)\n",
        "# print('Jumlah customers yang pernah bertransaksi:', transactions['customer_id'].nunique())\n",
        "# print('Jumlah customers yang sukses bertransaksi:', trans_sukses)\n",
        "\n",
        "# # Memastikan bahwa nilai-nilai di dalam array y bersifat non-negatif\n",
        "# x = [\"Belum bertransaksi\", \"Sukses bertransaksi\"]\n",
        "# y = np.array([no_trans, trans_sukses])  # Memastikan bahwa c diubah menjadi positif\n",
        "\n",
        "# bar_colors = ['tab:red', 'tab:blue']\n",
        "\n",
        "# # Membuat diagram lingkaran dengan sektor \"Sukses bertransaksi\" muncul terlebih dahulu\n",
        "# plt.figure(figsize=(6, 4))\n",
        "# plt.pie(y, labels=x, colors=bar_colors, autopct='%1.1f%%', startangle=90, counterclock=False)\n",
        "# plt.title('Jumlah Customers')\n",
        "# plt.show()\n"
      ]
    },
    {
      "cell_type": "code",
      "execution_count": null,
      "metadata": {
        "id": "7t_BQfhFjgdW"
      },
      "outputs": [],
      "source": [
        "# # transactions by promo usage\n",
        "# date_trans = success['created_at'].nunique()\n",
        "# use_code = success['promo_code'].value_counts().sum()\n",
        "# without_code = date_trans-use_code\n",
        "\n",
        "# print('Jumlah Transaksi:', date_trans)\n",
        "# print('1. Dengan promo:', use_code)\n",
        "# print('2. Tanpa promo:', without_code)\n",
        "\n",
        "# x = [\"Dengan promo\", \"Tanpa promo\"]\n",
        "# y = np.array([use_code, without_code])\n",
        "# bar_colors = ['tab:blue', 'tab:red']\n",
        "\n",
        "# plt.figure(figsize=(6,5))\n",
        "# plt.pie(y, labels = x, colors = bar_colors, autopct='%1.1f%%')\n",
        "# plt.title('Jumlah Transaksi')\n",
        "# plt.show()"
      ]
    },
    {
      "cell_type": "code",
      "execution_count": null,
      "metadata": {
        "id": "Bb8oYUFnkpo4"
      },
      "outputs": [],
      "source": [
        "# # transactions by promo_code usage\n",
        "# success['promo_code'].value_counts().sort_values().plot(kind='barh', color='skyblue', figsize=(8, 4))\n",
        "# plt.xlabel('Jumlah Transaksi')\n",
        "# plt.ylabel('Kode Promo')\n",
        "# plt.title('Jumlah Transaksi berdasarkan Penggunaan Kode Promo')\n",
        "# plt.show()"
      ]
    },
    {
      "cell_type": "code",
      "execution_count": null,
      "metadata": {
        "id": "nM41XB3_lhhG"
      },
      "outputs": [],
      "source": [
        "# # transactions by created_at\n",
        "# date = success.copy()\n",
        "# date['created_at'] = date['created_at'].astype('datetime64')\n",
        "# date['year_transaction'] = date['created_at'].dt.year # partisi berdasarkan year\n",
        "# date['month_transaction'] = date['created_at'].dt.month # partisi bedasarkan month\n",
        "\n",
        "# month = date.groupby(['year_transaction', 'month_transaction']).agg(\n",
        "#     customers_transaction = pd.NamedAgg(column = 'month_transaction', aggfunc = sum))  # membuat kolom customers_transaction\n",
        "# month.reset_index(inplace=True)\n",
        "\n",
        "# sns.set(rc={\"figure.figsize\":(9, 4)})\n",
        "# sns.lineplot(data=month, x=\"month_transaction\", y=\"customers_transaction\", hue=\"year_transaction\", palette=\"deep\")"
      ]
    },
    {
      "cell_type": "code",
      "execution_count": null,
      "metadata": {
        "id": "MFkx2Axqmrjx"
      },
      "outputs": [],
      "source": [
        "# Melihat Booking Yang Pernah Dilakukan Customer\n",
        "# booking = success.groupby(['customer_id']).agg(\n",
        "#     customer_booking = pd.NamedAgg(column = 'booking_id', aggfunc = len))\n",
        "# booking.reset_index(inplace=True)\n",
        "\n",
        "# print(booking['customer_booking'].describe().round(0))\n",
        "# sns.displot(booking, x=\"customer_booking\", binwidth=18)"
      ]
    },
    {
      "cell_type": "code",
      "execution_count": null,
      "metadata": {
        "id": "aQpLXnHYoqxw"
      },
      "outputs": [],
      "source": [
        "# # shipment fee\n",
        "# print(success['shipment_fee'].describe().round(0))\n",
        "# sns.displot(success, x=\"shipment_fee\")"
      ]
    },
    {
      "cell_type": "code",
      "execution_count": null,
      "metadata": {
        "id": "nCSJSXdEmXPP"
      },
      "outputs": [],
      "source": [
        "# #Presentase Penjualan(sukses) Berdasarkan Musim\n",
        "# success = transactions.copy()\n",
        "# success = transactions[transactions['payment_status'] == 'Success']\n",
        "\n",
        "# product_transactions = success.merge(product, how='left', on='product_id') # merge column transactions dan products\n",
        "# season = product_transactions.groupby('season')['quantity'].sum()\n",
        "# plt.figure(figsize=(6,4))\n",
        "# plt.pie(season.sort_values(ascending=False),\n",
        "#         autopct=\"%1.1f%%\",\n",
        "#         labels=season.sort_values(ascending=False).index)\n",
        "# plt.title(\"Persentase Periode dengan Penjualan Terlaris\")\n",
        "# plt.show()"
      ]
    },
    {
      "cell_type": "code",
      "execution_count": null,
      "metadata": {
        "id": "DrqJZ9zfpDmh"
      },
      "outputs": [],
      "source": [
        "# #Presentase Penjualan(sukses) Berdasarkan Gender Produk\n",
        "# gender = product_transactions.groupby('gender')['quantity'].sum()\n",
        "# plt.figure(figsize=(6,4))\n",
        "# plt.pie(gender.sort_values(ascending=False),\n",
        "#         autopct=\"%1.1f%%\",\n",
        "#         labels=gender.sort_values(ascending=False).index)\n",
        "# plt.title(\"Persentase Jenis Gender Produk Terlaris\")\n",
        "# plt.show()"
      ]
    },
    {
      "cell_type": "code",
      "execution_count": null,
      "metadata": {
        "id": "oGqrCbVypdGw"
      },
      "outputs": [],
      "source": [
        "# # Melihat Presentase Produk Terlaris Dari Fungsinya\n",
        "# usage = product_transactions.groupby('usage')['quantity'].sum()\n",
        "# plt.figure(figsize=(6,4))\n",
        "# plt.pie(usage.sort_values(ascending=False)[:5],\n",
        "#         autopct=\"%1.1f%%\",\n",
        "#         labels=usage.sort_values(ascending=False)[:5].index)\n",
        "# plt.title(\"Persentase Fungsi dari Produk Terlaris\")\n",
        "# plt.show()"
      ]
    },
    {
      "cell_type": "code",
      "execution_count": null,
      "metadata": {
        "id": "5ZJreLoapfZV"
      },
      "outputs": [],
      "source": [
        "# # Melihat Presentase Produk Terlaris Dari SubCategory\n",
        "# subCategory = product_transactions.groupby('subCategory')['quantity'].sum()\n",
        "# plt.figure(figsize=(6,4))\n",
        "# subCategory.sort_values(ascending=False)[:10].sort_values().plot(kind='barh')"
      ]
    },
    {
      "cell_type": "code",
      "execution_count": null,
      "metadata": {
        "id": "szmOvkRdpm5H"
      },
      "outputs": [],
      "source": [
        "# # Melihat Presentase Produk Terlaris Dari BaseColour\n",
        "# baseColour = product_transactions.groupby('baseColour')['quantity'].sum()\n",
        "# plt.figure(figsize=(6,4))\n",
        "# baseColour.sort_values(ascending=False)[:10].sort_values().plot(kind='barh')"
      ]
    },
    {
      "cell_type": "code",
      "execution_count": null,
      "metadata": {
        "id": "sXpMuZFkpsAJ"
      },
      "outputs": [],
      "source": [
        "# # Melihat Presentase Produk Terlaris Dari ArticleType\n",
        "# articleType = product_transactions.groupby('articleType')['quantity'].sum()\n",
        "# plt.figure(figsize=(6,4))\n",
        "# articleType.sort_values(ascending=False)[:10].sort_values().plot(kind='barh')"
      ]
    },
    {
      "cell_type": "code",
      "execution_count": null,
      "metadata": {
        "id": "qNGkYoaHg2_a"
      },
      "outputs": [],
      "source": [
        "# # Konversi kolom 'created_at' ke tipe datetime\n",
        "# transactions['created_at'] = pd.to_datetime(transactions['created_at'])\n",
        "\n",
        "# # Tahun-tahun yang ingin dianalisis\n",
        "# years_to_analyze = [2017, 2018, 2019, 2020, 2021, 2022]\n",
        "\n",
        "# for year in years_to_analyze:\n",
        "#     # Filter data berdasarkan tahun\n",
        "#     transactions_year = transactions[transactions['created_at'].dt.year == year]\n",
        "\n",
        "#     # Hitung jumlah pengunjung yang berhasil melakukan pembayaran per bulan\n",
        "#     successful_payments_per_month = transactions_year[transactions_year['payment_status'] == 'Success']\\\n",
        "#         .groupby(transactions_year['created_at'].dt.month)['customer_id'].nunique()\n",
        "\n",
        "#     # Hitung jumlah pengunjung secara keseluruhan per bulan\n",
        "#     total_visitors_per_month = transactions_year.groupby(transactions_year['created_at'].dt.month)['customer_id'].nunique()\n",
        "\n",
        "#     # Hitung conversion rate per bulan\n",
        "#     conversion_rate_per_month = (successful_payments_per_month / total_visitors_per_month).fillna(0)\n",
        "\n",
        "#     # Plot data conversion rate\n",
        "#     plt.figure()\n",
        "#     conversion_rate_per_month.plot(kind='line', xlabel='Bulan', ylabel='Conversion Rate')\n",
        "#     plt.title(f'Conversion Rate per Bulan pada Tahun {year}')\n",
        "\n",
        "# plt.show()"
      ]
    },
    {
      "cell_type": "code",
      "execution_count": null,
      "metadata": {
        "id": "QPeYMqDMi5NT"
      },
      "outputs": [],
      "source": [
        "# # Filter successful transactions\n",
        "# successful_transactions = transactions[transactions['payment_status'].isin(['success', 'completed'])]\n",
        "\n",
        "# # Calculate the unique number of customers\n",
        "# unique_customers = transactions['customer_id'].nunique()\n",
        "\n",
        "# # Calculate the number of successful transactions\n",
        "# num_successful_transactions = successful_transactions.shape[0]\n",
        "\n",
        "# # Calculate the conversion rate\n",
        "# conversion_rate = (num_successful_transactions / unique_customers) * 100\n",
        "\n",
        "# print(f'Conversion Rate: {conversion_rate:.2f}%')\n",
        "\n",
        "# # Group transactions by year\n",
        "# transactions['created_at'] = pd.to_datetime(transactions['created_at'])\n",
        "# transactions['year'] = transactions['created_at'].dt.year\n",
        "# conversion_by_year = transactions.groupby('year')['payment_status'].count()\n",
        "\n",
        "# # Plot the conversion rate by year\n",
        "# plt.figure(figsize=(10, 6))\n",
        "# plt.bar(conversion_by_year.index, conversion_by_year.values)\n",
        "# plt.xlabel('Year')\n",
        "# plt.ylabel('Number of Successful Transactions')\n",
        "# plt.title('Conversion Rate by Year')\n",
        "# plt.show()"
      ]
    },
    {
      "cell_type": "markdown",
      "metadata": {
        "id": "qP8Rgbao7ZBn"
      },
      "source": [
        "Melihat presentase barang yang dimasukan ke keranjang oleh pelanggan, tapi tidak melanjutkan ke proses pembayaran"
      ]
    },
    {
      "cell_type": "code",
      "execution_count": null,
      "metadata": {
        "id": "_cXKWZzwyG0V"
      },
      "outputs": [],
      "source": [
        "# # Menghitung jumlah transaksi tanpa pembayaran\n",
        "# abandoned_carts = transactions[transactions[\"payment_status\"] == \"unpaid\"]\n",
        "# total_transactions = len(transactions)\n",
        "\n",
        "# # Menghitung Cart Abandonment Rate\n",
        "# abandonment_rate = (len(abandoned_carts) / total_transactions) * 100\n",
        "\n",
        "# # Membuat visualisasi\n",
        "# labels = ['Completed Transactions', 'Abandoned Carts']\n",
        "# sizes = [total_transactions - len(abandoned_carts), len(abandoned_carts)]\n",
        "# colors = ['lightblue']\n",
        "# explode = (0, 0.1)  # Pecahkan slice 'Abandoned Carts'\n",
        "\n",
        "# plt.pie(sizes, explode=explode, labels=labels, colors=colors, autopct='%1.1f%%', shadow=True, startangle=140)\n",
        "# plt.axis('equal')  # Mengatur aspek lingkaran menjadi lingkaran\n",
        "# plt.title('Cart Abandonment Rate')\n",
        "# plt.show()\n",
        "\n",
        "# print(f\"Cart Abandonment Rate: {abandonment_rate:.2f}%\")"
      ]
    },
    {
      "cell_type": "code",
      "execution_count": null,
      "metadata": {
        "id": "jmCrfYfPqNsR"
      },
      "outputs": [],
      "source": [
        "# transactions['payment_status'].unique()"
      ]
    },
    {
      "cell_type": "code",
      "execution_count": null,
      "metadata": {
        "id": "cs8DjtdEPBVR"
      },
      "outputs": [],
      "source": [
        "# # Menghitung jumlah setiap nilai dalam 'payment_status'\n",
        "# payment_status_counts = click['payment_status'].value_counts()\n",
        "\n",
        "# # Menampilkan hasil\n",
        "# print(\"Jumlah dan Jenis Status Pembayaran:\")\n",
        "# print(payment_status_counts)\n",
        "\n",
        "# # Membuat plot\n",
        "# plt.figure(figsize=(6, 4))\n",
        "# payment_status_counts.plot(kind='bar', color='pink')\n",
        "# plt.xlabel('Payment Status')\n",
        "# plt.ylabel('Jumlah Transaksi')\n",
        "# plt.title('Diagram Click Payment Status')\n",
        "# plt.xticks(rotation=0)\n",
        "# plt.show()"
      ]
    },
    {
      "cell_type": "code",
      "execution_count": null,
      "metadata": {
        "id": "OAIgaXHqMU3o"
      },
      "outputs": [],
      "source": [
        "# # Menghitung jumlah payment method dengan status 'success'\n",
        "# success_count = transactions[transactions['payment_status'] == 'Success']['payment_method'].value_counts()\n",
        "\n",
        "# # Menghitung jumlah payment method dengan status 'failed'\n",
        "# failed_count = transactions[transactions['payment_status'] == 'Failed']['payment_method'].value_counts()\n",
        "\n",
        "# print(\"Jumlah payment method dengan status 'success':\")\n",
        "# print(success_count)\n",
        "\n",
        "# print(\"\\nJumlah payment method dengan status 'failed':\")\n",
        "# print(failed_count)"
      ]
    },
    {
      "cell_type": "code",
      "execution_count": null,
      "metadata": {
        "id": "iE8ATWftMDd_"
      },
      "outputs": [],
      "source": [
        "# # Menghitung jumlah dan kata kunci (search keywords)\n",
        "# search_keywords_counts = click['search_keywords'].value_counts()\n",
        "\n",
        "# # Menampilkan hasil\n",
        "# print(\"Jumlah dan Kata Kunci:\")\n",
        "# print(search_keywords_counts)"
      ]
    },
    {
      "cell_type": "code",
      "execution_count": null,
      "metadata": {
        "id": "S5mLSHcRSX70"
      },
      "outputs": [],
      "source": [
        "# # Mengetahui jumlah transactions dari seluruh customers\n",
        "\n",
        "# # Menghitung jumlah pembelian per pelanggan di dataset transactions\n",
        "# total_purchase_counts = transactions.groupby('customer_id').size().reset_index(name='total_purchase_count')\n",
        "\n",
        "# # Gabungkan hasil dengan data customer menggunakan 'outer'\n",
        "# result_customer = pd.merge(customer, total_purchase_counts, on='customer_id', how='outer')\n",
        "\n",
        "# # Mengganti nilai NaN pada kolom 'total_purchase_count' dengan 0\n",
        "# result_customer['total_purchase_count'].fillna(0, inplace=True)\n",
        "\n",
        "# # Mengubah tipe data\n",
        "# result_customer['total_purchase_count'] = result_customer['total_purchase_count'].astype(int)\n",
        "\n",
        "# # Mengurutkan hasil berdasarkan 'total_purchase_count'\n",
        "# result_customer = result_customer.sort_values(by='total_purchase_count',ascending=[0])\n",
        "\n",
        "# # Menyusun ulang indeks jika diperlukan\n",
        "# result_customer = result_customer.reset_index(drop=True)\n",
        "\n",
        "# # Menampilkan hasil\n",
        "# result_customer[['customer_id','first_name','last_name','gender','total_purchase_count']]"
      ]
    },
    {
      "cell_type": "code",
      "execution_count": null,
      "metadata": {
        "id": "3LtwHwLEfw0F"
      },
      "outputs": [],
      "source": [
        "# # Menghitung total pembelian per pelanggan di dataset transactions\n",
        "# total_purchase_amount = transactions.groupby('customer_id')['total_amount'].sum().reset_index(name='total_purchase_amount')\n",
        "\n",
        "# # Gabungkan hasil dengan data customer menggunakan 'outer'\n",
        "# result_customer = pd.merge(customer, total_purchase_amount, on='customer_id', how='outer')\n",
        "\n",
        "# # Mengganti nilai NaN pada kolom 'total_purchase_amount' dengan 0\n",
        "# result_customer['total_purchase_amount'].fillna(0, inplace=True)\n",
        "\n",
        "# # Mengubah tipe data\n",
        "# result_customer['total_purchase_amount'] = result_customer['total_purchase_amount'].astype(int)\n",
        "\n",
        "# # Mengurutkan hasil berdasarkan 'customer_id'\n",
        "# result_customer = result_customer.sort_values(by='total_purchase_amount',ascending=[0])\n",
        "\n",
        "# # Menyusun ulang indeks jika diperlukan\n",
        "# result_customer = result_customer.reset_index(drop=True)\n",
        "\n",
        "# # Menampilkan hasil\n",
        "# result_customer[['customer_id','first_name','last_name','gender','total_purchase_amount']]"
      ]
    },
    {
      "cell_type": "code",
      "execution_count": null,
      "metadata": {
        "id": "RasxifIblfQT"
      },
      "outputs": [],
      "source": [
        "# # Menampilkan productDisplay Name dan baseColour ke dataset transactions\n",
        "\n",
        "# # Menggabungkan dataset transactions dan product berdasarkan kolom 'product_id' dan 'id'\n",
        "# merged_data = transactions.merge(product, left_on='product_id', right_on='product_id', how='inner')\n",
        "\n",
        "# # Menghapus kolom yang tidak diperlukan dari DataFrame merged_data\n",
        "# merged_data.drop(['product_id', 'gender', 'masterCategory', 'subCategory', 'articleType', 'season', 'year_y', 'usage'], axis=1, inplace=True)\n",
        "\n",
        "# # Menampilkan hasil gabungan\n",
        "# merged_data[['customer_id','payment_method','payment_status','promo_code','productDisplayName']]"
      ]
    },
    {
      "cell_type": "code",
      "execution_count": null,
      "metadata": {
        "id": "TPeT4yN9mdT3"
      },
      "outputs": [],
      "source": [
        "# # Groupby session_id dan traffic_source\n",
        "# grouped_data = click.groupby(['session_id', 'traffic_source']).size().unstack(fill_value=0)\n",
        "\n",
        "# # Tampilkan hasil groupby\n",
        "# print(\"Hasil Groupby dengan Lalu Lintas Sumber:\")\n",
        "# print(grouped_data)"
      ]
    },
    {
      "cell_type": "code",
      "execution_count": null,
      "metadata": {
        "id": "l5iUR7c71JfC"
      },
      "outputs": [],
      "source": [
        "# click['session_id'].nunique()"
      ]
    },
    {
      "cell_type": "code",
      "execution_count": null,
      "metadata": {
        "id": "VH_0TiTPeBhd"
      },
      "outputs": [],
      "source": [
        "# # Ekstrak Tahun dari kolom 'created_at'\n",
        "# transactions['month'] = transactions['created_at'].dt.to_period('M')\n",
        "\n",
        "# # Groupby berdasarkan Tahun dan promo_code, lalu hitung jumlah penggunaan promo_code\n",
        "# grouped_data = transactions.groupby(['month', 'promo_code']).size().unstack(fill_value=0)\n",
        "\n",
        "# # Membuat time series plot\n",
        "# grouped_data.plot(kind='line', marker='o', figsize=(10, 6))\n",
        "# plt.xlabel('Tahun')\n",
        "# plt.ylabel('Jumlah Penggunaan Promo Code')\n",
        "# plt.title('Penggunaan Promo Code per Tahun')\n",
        "# plt.legend(title='Promo Code', title_fontsize='12')\n",
        "# plt.show()"
      ]
    },
    {
      "cell_type": "markdown",
      "metadata": {
        "id": "qEFb-H5T1J-m"
      },
      "source": [
        "# **3. Feature Engineering**"
      ]
    },
    {
      "cell_type": "markdown",
      "metadata": {
        "id": "NqKTbp2G8usC"
      },
      "source": [
        "## **Feature Selection**"
      ]
    },
    {
      "cell_type": "code",
      "execution_count": null,
      "metadata": {
        "colab": {
          "base_uri": "https://localhost:8080/"
        },
        "id": "g6AdQVEy_Auk",
        "outputId": "a3f2351c-3ffc-4adf-c640-3fcd310b3859"
      },
      "outputs": [],
      "source": [
        "click.event_name.unique()"
      ]
    },
    {
      "cell_type": "code",
      "execution_count": null,
      "metadata": {
        "id": "KRHhIKT0NOnL"
      },
      "outputs": [],
      "source": [
        "#Mengelompokan Berdasarkan Kegiatan Yang Ada di Event Name Dan Membuat Feature Baru\n",
        "\n",
        "# Homepage\n",
        "homepage = click[(click['event_name'] == 'HOMEPAGE')]\n",
        "homepage = homepage.groupby('session_id')['event_name'].count()\n",
        "homepage = homepage.to_frame().rename(columns={\"event_name\": \"homepage\"}).reset_index()\n",
        "\n",
        "# Scroll\n",
        "scroll = click[(click['event_name'] == 'SCROLL')]\n",
        "scroll = scroll.groupby('session_id')['event_name'].count()\n",
        "scroll = scroll.to_frame().rename(columns={\"event_name\": \"scroll\"}).reset_index()\n",
        "\n",
        "#Search\n",
        "search = click[(click['event_name'] == 'SEARCH')]\n",
        "search = search.groupby('session_id')['event_name'].count()\n",
        "search = search.to_frame().rename(columns={\"event_name\": \"search\"}).reset_index()\n",
        "\n",
        "# Item Detail\n",
        "item_detail = click[(click['event_name'] == 'ITEM_DETAIL')]\n",
        "item_detail = item_detail.groupby('session_id')['event_name'].count()\n",
        "item_detail = item_detail.to_frame().rename(columns={\"event_name\": \"item_detail\"}).reset_index()\n",
        "\n",
        "# Add To Cart\n",
        "add_to_cart = click[(click['event_name'] == 'ADD_TO_CART')]\n",
        "add_to_cart = add_to_cart.groupby('session_id')['event_name'].count()\n",
        "add_to_cart = add_to_cart.to_frame().rename(columns={\"event_name\": \"add_to_cart\"}).reset_index()\n",
        "\n",
        "# Add Promo\n",
        "add_promo = click[(click['event_name'] == 'ADD_PROMO')]\n",
        "add_promo = add_promo.groupby('session_id')['event_name'].count()\n",
        "add_promo = add_promo.to_frame().rename(columns={\"event_name\": \"add_promo\"}).reset_index()\n",
        "\n",
        "# click\n",
        "click_event = click[(click['event_name'] == 'CLICK')]\n",
        "click_event = click_event.groupby('session_id')['event_name'].count()\n",
        "click_event = click_event.to_frame().rename(columns={\"event_name\": \"click\"}).reset_index()\n",
        "\n",
        "# promo_page\n",
        "promo_page = click[(click['event_name'] == 'PROMO_PAGE')]\n",
        "promo_page = promo_page.groupby('session_id')['event_name'].count()\n",
        "promo_page = promo_page.to_frame().rename(columns={\"event_name\": \"promo_page\"}).reset_index()\n",
        "\n",
        "# Booking\n",
        "booking = click[(click['event_name'] == 'BOOKING')]\n",
        "booking = booking.groupby('session_id')['event_name'].count()\n",
        "booking = booking.to_frame().rename(columns={\"event_name\": \"booking\"}).reset_index()"
      ]
    },
    {
      "cell_type": "code",
      "execution_count": null,
      "metadata": {
        "id": "xM_SObJcO5yl"
      },
      "outputs": [],
      "source": [
        "# Menggabungkan Semua Feature Diatas\n",
        "\n",
        "click_session = click[['session_id', 'event_time']].merge(homepage, on='session_id', how='left')\n",
        "click_session = click_session.merge(scroll, on='session_id', how='left')\n",
        "click_session = click_session.merge(search, on='session_id', how='left')\n",
        "click_session = click_session.merge(item_detail, on='session_id', how='left')\n",
        "click_session = click_session.merge(add_to_cart, on='session_id', how='left')\n",
        "click_session = click_session.merge(add_promo, on='session_id', how='left')\n",
        "click_session = click_session.merge(click_event, on='session_id', how='left')\n",
        "click_session = click_session.merge(promo_page, on='session_id', how='left')\n",
        "click_session = click_session.merge(booking, on='session_id', how='left')"
      ]
    },
    {
      "cell_type": "markdown",
      "metadata": {
        "id": "qr1rBCYHkwJC"
      },
      "source": [
        "- HOMEPAGE: Pengguna masuk ke halaman utama platform saat mereka mulai sesi.\n",
        "- SCROLL: Pengguna menggulir halaman untuk menjelajahi berbagai produk atau konten.\n",
        "- SEARCH: Pengguna melakukan pencarian untuk produk tertentu atau kategori.\n",
        "- ITEM_DETAIL: Pengguna mengklik pada item atau produk tertentu untuk melihat detailnya.\n",
        "- ADD_TO_CART: Pengguna menambahkan item ke keranjang belanja.\n",
        "- ADD_PROMO: Pengguna mungkin menambahkan promo atau kode diskon ke pesanan mereka.\n",
        "- CLICK: Pengguna melakukan klik pada berbagai elemen, mungkin termasuk tautan atau gambar.\n",
        "- PROMO_PAGE: Pengguna mengunjungi halaman promosi atau diskon khusus."
      ]
    },
    {
      "cell_type": "code",
      "execution_count": null,
      "metadata": {
        "colab": {
          "base_uri": "https://localhost:8080/",
          "height": 293
        },
        "id": "JZRvgKzSjvf6",
        "outputId": "73e14830-615e-46bc-e3e2-8161fe5d22a9"
      },
      "outputs": [],
      "source": [
        "click_session.head()"
      ]
    },
    {
      "cell_type": "markdown",
      "metadata": {
        "id": "Q3SIjYxllj65"
      },
      "source": [
        "Disini terlihat bahwa dalam satu session customer melakukan banyak aktivitas pada waktu yang berbeda"
      ]
    },
    {
      "cell_type": "markdown",
      "metadata": {
        "id": "kFAdDfV1pAdR"
      },
      "source": [
        "## Master Dataset"
      ]
    },
    {
      "cell_type": "code",
      "execution_count": null,
      "metadata": {
        "id": "JpDfLu6bNfBF"
      },
      "outputs": [],
      "source": [
        "# trans = transactions.copy()\n",
        "# master_dataset = trans.merge(click_session, on='session_id', how='left')\n",
        "# master_dataset.head()"
      ]
    },
    {
      "cell_type": "code",
      "execution_count": null,
      "metadata": {
        "id": "-f4EwhXtpsxl"
      },
      "outputs": [],
      "source": [
        "# # Download Master Dataset\n",
        "# master_dataset.to_csv('master.csv', index=False)\n",
        "# files.download(\"master.csv\")"
      ]
    },
    {
      "cell_type": "markdown",
      "metadata": {
        "id": "1gvQVP3sNgEx"
      },
      "source": [
        "## Feature Dataset"
      ]
    },
    {
      "cell_type": "markdown",
      "metadata": {
        "id": "RQYnipyXypKm"
      },
      "source": [
        "Menggabungkan dataset transaction (sukses saja) dengan click_session untuk melihat aktivitas dan informasi dari customer saat melakukan pemesanan"
      ]
    },
    {
      "cell_type": "code",
      "execution_count": null,
      "metadata": {
        "colab": {
          "base_uri": "https://localhost:8080/",
          "height": 486
        },
        "id": "ZBjd1dJGx2CJ",
        "outputId": "c6da5db4-179a-4787-f12e-f8362cb40437"
      },
      "outputs": [],
      "source": [
        "# Menggabungkan Transaction (Sukses Saja) dengan Feature Selection Sebelumnya\n",
        "trans_success = transactions[transactions['payment_status'] == 'Success'][['session_id', 'created_at', 'customer_id', 'booking_id', 'promo_amount', 'shipment_fee', 'total_amount', 'product_id', 'quantity', 'item_price']]\n",
        "\n",
        "feature = trans_success.merge(click_session, on='session_id', how='left')\n",
        "feature.head()"
      ]
    },
    {
      "cell_type": "code",
      "execution_count": null,
      "metadata": {
        "id": "y8ZO24RGF_C_"
      },
      "outputs": [],
      "source": [
        "# Melakukan agregasi untuk memahami perilaku pelanggan secara keseluruhan.\n",
        "\n",
        "agg = feature.groupby(['customer_id']).agg(\n",
        "\n",
        "#Melihat Frekuensi dan Total Uniq Produk yang pernah dibeli oleh Customer\n",
        "first_transaction = pd.NamedAgg(column = 'created_at', aggfunc=min),\n",
        "last_transaction = pd.NamedAgg(column = 'created_at', aggfunc=max),\n",
        "freq_transaction = pd.NamedAgg(column = 'booking_id', aggfunc='nunique'),\n",
        "total_unique_product = pd.NamedAgg(column = 'product_id', aggfunc='nunique'),\n",
        "\n",
        "#Melihat Jumlah Produk yang pernah dibeli Customer\n",
        "total_quantity = pd.NamedAgg(column = 'quantity', aggfunc=sum),\n",
        "avg_quantity = pd.NamedAgg(column = 'quantity', aggfunc='mean'),\n",
        "\n",
        "#Melihat Jumlah pengeluaran yang pernah dilakukan customer\n",
        "total_amount = pd.NamedAgg(column = 'total_amount', aggfunc=sum),\n",
        "avg_amount = pd.NamedAgg(column = 'total_amount', aggfunc='mean'),\n",
        "\n",
        "#Melihat Item Price yang pernah dibeli Customer\n",
        "min_item_price = pd.NamedAgg(column = 'item_price', aggfunc=min),\n",
        "max_item_price = pd.NamedAgg(column = 'item_price', aggfunc=max),\n",
        "avg_item_price = pd.NamedAgg(column = 'item_price', aggfunc='mean'),\n",
        "\n",
        "#Melihat Jumlah potongan Promo yang sudah pernah dipakai Customer\n",
        "total_promo_amount = pd.NamedAgg(column = 'promo_amount', aggfunc=sum),\n",
        "total_promo_code = pd.NamedAgg(column = 'promo_amount', aggfunc='nunique'),\n",
        "\n",
        "#Melihat Total Biaya pengiriman yang pernah dibayarkan Customer\n",
        "total_shipment = pd.NamedAgg(column = 'shipment_fee', aggfunc=sum),\n",
        "min_shipment = pd.NamedAgg(column = 'shipment_fee', aggfunc=min),\n",
        "max_shipment = pd.NamedAgg(column = 'shipment_fee', aggfunc=max),\n",
        "avg_shipment = pd.NamedAgg(column = 'shipment_fee', aggfunc='mean'),\n",
        "\n",
        "#Melihat Rata-Rata Aktivitas yang pernah dilakukan Customer\n",
        "avg_homepage = pd.NamedAgg(column = 'homepage', aggfunc='mean'),\n",
        "avg_scroll = pd.NamedAgg(column = 'scroll', aggfunc='mean'),\n",
        "avg_click = pd.NamedAgg(column = 'click', aggfunc='mean'),\n",
        "item_detail = pd.NamedAgg(column = 'item_detail', aggfunc='mean'),\n",
        "avg_promo_page = pd.NamedAgg(column = 'promo_page', aggfunc='mean'),\n",
        "avg_search = pd.NamedAgg(column = 'search', aggfunc='mean'),\n",
        "avg_add_to_cart = pd.NamedAgg(column = 'add_to_cart', aggfunc='mean'),\n",
        "avg_add_promo = pd.NamedAgg(column = 'add_promo', aggfunc='mean'),\n",
        "\n",
        ").reset_index()\n"
      ]
    },
    {
      "cell_type": "code",
      "execution_count": null,
      "metadata": {
        "colab": {
          "base_uri": "https://localhost:8080/",
          "height": 313
        },
        "id": "7NqyzxKqGECp",
        "outputId": "cf509da4-f76c-4acf-a3c5-45c366f957c1"
      },
      "outputs": [],
      "source": [
        "agg.head()"
      ]
    },
    {
      "cell_type": "markdown",
      "metadata": {
        "id": "4O4WAgls1IS9"
      },
      "source": [
        "## **Churn Label**"
      ]
    },
    {
      "cell_type": "code",
      "execution_count": null,
      "metadata": {
        "colab": {
          "base_uri": "https://localhost:8080/"
        },
        "id": "Ge3cjqId1IS-",
        "outputId": "cd1a8da3-7456-450e-d9ad-5346de7aad08"
      },
      "outputs": [],
      "source": [
        "# Melihat rentang waktu dalam kolom 'created_at'.\n",
        "print(min(feature['created_at']))\n",
        "print(max(feature['created_at']))"
      ]
    },
    {
      "cell_type": "code",
      "execution_count": null,
      "metadata": {
        "id": "enXJ1P1A1IS-"
      },
      "outputs": [],
      "source": [
        "# Membuat Fungsi untuk label Churn (Perbulan)\n",
        "\n",
        "# Per-1 Bulan\n",
        "def label(df):\n",
        "    if (df['yearmonth_x'] == 0) or (df['yearmonth_y'] == 0):\n",
        "        return 1  # 1 adalah customer label churn\n",
        "    elif (df['yearmonth_x'] != 0) and (df['yearmonth_y'] != 0):\n",
        "        return 0  # 0 adalah customer level tidak churn\n",
        "    else:\n",
        "        return \" \"\n",
        "\n",
        "# Per-6 Bulan\n",
        "def sixlabel(df):\n",
        "    if (df['6Month_x'] == 0) or (df['6Month_y'] == 0):      #6Month_x : observasi window\n",
        "        return 1  # 1 adalah customer label churn           #6Month_y : perform window\n",
        "    elif (df['6Month_x'] != 0) and (df['6Month_y'] != 0):\n",
        "        return 0  # 0 adalah customer level tidak churn\n",
        "    else:\n",
        "        return \" \""
      ]
    },
    {
      "cell_type": "markdown",
      "metadata": {
        "id": "9SVIlqtmRyLB"
      },
      "source": [
        "### One Month"
      ]
    },
    {
      "cell_type": "code",
      "execution_count": null,
      "metadata": {
        "id": "xa6B-QFz1IS_"
      },
      "outputs": [],
      "source": [
        " #Mengubah format tanggal dan waktu pada create_at menjadi string\n",
        "feature['yearmonth'] = feature['created_at'].dt.strftime('%Y-%m')"
      ]
    },
    {
      "cell_type": "code",
      "execution_count": null,
      "metadata": {
        "colab": {
          "base_uri": "https://localhost:8080/"
        },
        "id": "5FnL9rWW1ITA",
        "outputId": "fc53398b-6283-4476-aa97-621ea2efdbe3"
      },
      "outputs": [],
      "source": [
        "print(min(feature['yearmonth']))\n",
        "print(max(feature['yearmonth']))"
      ]
    },
    {
      "cell_type": "code",
      "execution_count": null,
      "metadata": {
        "id": "ntiCopIlR039"
      },
      "outputs": [],
      "source": [
        "# # Melakukan Agregasi Untuk memahami perilaku pelanggan secara keseluruhan.\n",
        "# agg = feature.groupby(['yearmonth','customer_id']).agg(\n",
        "\n",
        "# # Melihat Frekuensi dan Total Uniq Produk yang pernah dibeli oleh Customer\n",
        "# first_transaction = pd.NamedAgg(column = 'created_at', aggfunc=min),\n",
        "# last_transaction = pd.NamedAgg(column = 'created_at', aggfunc=max),\n",
        "# freq_transaction = pd.NamedAgg(column = 'booking_id', aggfunc='nunique'),\n",
        "# total_unique_product = pd.NamedAgg(column = 'product_id', aggfunc='nunique'),\n",
        "\n",
        "# # Melihat Jumlah Produk yang pernah dibeli Customer\n",
        "# total_quantity = pd.NamedAgg(column = 'quantity', aggfunc=sum),\n",
        "# avg_quantity = pd.NamedAgg(column = 'quantity', aggfunc='mean'),\n",
        "\n",
        "# # Melihat Jumlah pengeluaran yang pernah dilakukan customer\n",
        "# total_amount = pd.NamedAgg(column = 'total_amount', aggfunc=sum),\n",
        "# avg_amount = pd.NamedAgg(column = 'total_amount', aggfunc='mean'),\n",
        "\n",
        "# # Melihat Item Price yang pernah dibeli Customer\n",
        "# min_item_price = pd.NamedAgg(column = 'item_price', aggfunc=min),\n",
        "# max_item_price = pd.NamedAgg(column = 'item_price', aggfunc=max),\n",
        "# avg_item_price = pd.NamedAgg(column = 'item_price', aggfunc='mean'),\n",
        "\n",
        "# # Melihat Jumlah potongan Promo yang sudah pernah dipakai Customer\n",
        "# total_promo_amount = pd.NamedAgg(column = 'promo_amount', aggfunc=sum),\n",
        "# total_promo_code = pd.NamedAgg(column = 'promo_amount', aggfunc='nunique'),\n",
        "\n",
        "# # Melihat Total Biaya pengiriman yang pernah dibayarkan Customer\n",
        "# total_shipment = pd.NamedAgg(column = 'shipment_fee', aggfunc=sum),\n",
        "# min_shipment = pd.NamedAgg(column = 'shipment_fee', aggfunc=min),\n",
        "# max_shipment = pd.NamedAgg(column = 'shipment_fee', aggfunc=max),\n",
        "# avg_shipment = pd.NamedAgg(column = 'shipment_fee', aggfunc='mean'),\n",
        "\n",
        "# # Melihat Rata-Rata Aktivitas yang pernah dilakukan Customer\n",
        "# avg_homepage = pd.NamedAgg(column = 'homepage', aggfunc='mean'),\n",
        "# avg_scroll = pd.NamedAgg(column = 'scroll', aggfunc='mean'),\n",
        "# avg_click = pd.NamedAgg(column = 'click', aggfunc='mean'),\n",
        "# item_detail = pd.NamedAgg(column = 'item_detail', aggfunc='mean'),\n",
        "# avg_promo_page = pd.NamedAgg(column = 'promo_page', aggfunc='mean'),\n",
        "# avg_search = pd.NamedAgg(column = 'search', aggfunc='mean'),\n",
        "# avg_add_to_cart = pd.NamedAgg(column = 'add_to_cart', aggfunc='mean'),\n",
        "# avg_add_promo = pd.NamedAgg(column = 'add_promo', aggfunc='mean'),\n",
        "\n",
        "# ).reset_index()"
      ]
    },
    {
      "cell_type": "code",
      "execution_count": null,
      "metadata": {
        "id": "B9IhtfOi_RIu"
      },
      "outputs": [],
      "source": [
        "# agg.head()"
      ]
    },
    {
      "cell_type": "markdown",
      "metadata": {
        "id": "LW4TQujf1ITD"
      },
      "source": [
        "### Six Month"
      ]
    },
    {
      "cell_type": "code",
      "execution_count": null,
      "metadata": {
        "id": "Hqtj02D952vV"
      },
      "outputs": [],
      "source": [
        "# Membuat Kolom 6Month berisi data (create_at)\n",
        "feature['6Month'] = feature['created_at'].dt.year.astype(str) + 'S' + np.where(feature['created_at'].dt.quarter.gt(2), 2, 1).astype(str)"
      ]
    },
    {
      "cell_type": "markdown",
      "metadata": {
        "id": "iKKOfYB8DPus"
      },
      "source": [
        "Membuat Kolom 6Month yang menggambarkan data ini masuk ke semester 1 (6 bulan pertama) atau semester 2 (6 bulan terakhir), berdasarkan informasi kuartal dari kolom 'created_at'. Jika < kuartal 2 berarti masuk kedalam semester 2 (6 bulan terakhir)"
      ]
    },
    {
      "cell_type": "code",
      "execution_count": null,
      "metadata": {
        "id": "_V_f_cYViNPF"
      },
      "outputs": [],
      "source": [
        "# Melakukan Agregasi Untuk memahami perilaku pelanggan secara keseluruhan.\n",
        "\n",
        "agg = feature.groupby(['6Month','customer_id']).agg(\n",
        "\n",
        "#Melihat Frekuensi dan Total Uniq Produk yang pernah dibeli oleh Customer\n",
        "first_transaction = pd.NamedAgg(column = 'created_at', aggfunc=min),\n",
        "last_transaction = pd.NamedAgg(column = 'created_at', aggfunc=max),\n",
        "freq_transaction = pd.NamedAgg(column = 'booking_id', aggfunc='nunique'),\n",
        "total_unique_product = pd.NamedAgg(column = 'product_id', aggfunc='nunique'),\n",
        "\n",
        "#Melihat Jumlah Produk yang pernah dibeli Customer\n",
        "total_quantity = pd.NamedAgg(column = 'quantity', aggfunc=sum),\n",
        "avg_quantity = pd.NamedAgg(column = 'quantity', aggfunc='mean'),\n",
        "\n",
        "#Melihat Jumlah pengeluaran yang pernah dilakukan customer\n",
        "total_amount = pd.NamedAgg(column = 'total_amount', aggfunc=sum),\n",
        "avg_amount = pd.NamedAgg(column = 'total_amount', aggfunc='mean'),\n",
        "\n",
        "#Melihat Item Price yang pernah dibeli Customer\n",
        "min_item_price = pd.NamedAgg(column = 'item_price', aggfunc=min),\n",
        "max_item_price = pd.NamedAgg(column = 'item_price', aggfunc=max),\n",
        "avg_item_price = pd.NamedAgg(column = 'item_price', aggfunc='mean'),\n",
        "\n",
        "#Melihat Jumlah potongan Promo yang sudah pernah dipakai Customer\n",
        "total_promo_amount = pd.NamedAgg(column = 'promo_amount', aggfunc=sum),\n",
        "total_promo_code = pd.NamedAgg(column = 'promo_amount', aggfunc='nunique'),\n",
        "\n",
        "#Melihat Total Biaya pengiriman yang pernah dibayarkan Customer\n",
        "total_shipment = pd.NamedAgg(column = 'shipment_fee', aggfunc=sum),\n",
        "min_shipment = pd.NamedAgg(column = 'shipment_fee', aggfunc=min),\n",
        "max_shipment = pd.NamedAgg(column = 'shipment_fee', aggfunc=max),\n",
        "avg_shipment = pd.NamedAgg(column = 'shipment_fee', aggfunc='mean'),\n",
        "\n",
        "#Melihat Rata-Rata Aktivitas yang pernah dilakukan Customer\n",
        "avg_homepage = pd.NamedAgg(column = 'homepage', aggfunc='mean'),\n",
        "avg_scroll = pd.NamedAgg(column = 'scroll', aggfunc='mean'),\n",
        "avg_click = pd.NamedAgg(column = 'click', aggfunc='mean'),\n",
        "item_detail = pd.NamedAgg(column = 'item_detail', aggfunc='mean'),\n",
        "avg_promo_page = pd.NamedAgg(column = 'promo_page', aggfunc='mean'),\n",
        "avg_search = pd.NamedAgg(column = 'search', aggfunc='mean'),\n",
        "avg_add_to_cart = pd.NamedAgg(column = 'add_to_cart', aggfunc='mean'),\n",
        "avg_add_promo = pd.NamedAgg(column = 'add_promo', aggfunc='mean'),\n",
        "\n",
        ").reset_index()\n"
      ]
    },
    {
      "cell_type": "code",
      "execution_count": null,
      "metadata": {
        "colab": {
          "base_uri": "https://localhost:8080/",
          "height": 313
        },
        "id": "eGc6_cgxjEBF",
        "outputId": "b998c50e-52dc-4ae9-b990-6d56d6567889"
      },
      "outputs": [],
      "source": [
        "agg.head()"
      ]
    },
    {
      "cell_type": "markdown",
      "metadata": {
        "id": "aicLUjxjGnpw"
      },
      "source": [
        "####Outlier"
      ]
    },
    {
      "cell_type": "code",
      "execution_count": null,
      "metadata": {
        "colab": {
          "base_uri": "https://localhost:8080/"
        },
        "id": "na922q6IrQBw",
        "outputId": "a818a1f6-1c1e-4627-a2ab-d1e19447d7da"
      },
      "outputs": [],
      "source": [
        "agg.info()"
      ]
    },
    {
      "cell_type": "code",
      "execution_count": null,
      "metadata": {
        "id": "HP2Jc-rW1ITF"
      },
      "outputs": [],
      "source": [
        "# # mengecek outlier\n",
        "# numeric_columns = agg.select_dtypes(include=['int', 'float']).columns\n",
        "# fig, axs = plt.subplots(ncols=len(numeric_columns), figsize=(50, 15))\n",
        "\n",
        "# for i, column in enumerate(numeric_columns):\n",
        "#     sns.boxplot(y=column, data=agg, ax=axs[i], whis=1.5)\n",
        "\n",
        "#     axs[i].set_title(f'Box Plot for {column}')\n",
        "#     axs[i].set_xlabel('')\n",
        "\n",
        "# plt.tight_layout(pad=0.4, w_pad=0.5, h_pad=5.0)\n",
        "# plt.show()\n",
        "\n"
      ]
    },
    {
      "cell_type": "code",
      "execution_count": null,
      "metadata": {
        "id": "Q5xu0rI91ITF"
      },
      "outputs": [],
      "source": [
        "# # Calculate Q1 and Q3 for the selected numeric columns\n",
        "# Q1 = agg[numeric_columns].quantile(0.25)\n",
        "# Q3 = agg[numeric_columns].quantile(0.75)\n",
        "\n",
        "# # Calculate IQR, maximum, and minimum for outlier handling\n",
        "# IQR = Q3 - Q1\n",
        "# maximum = Q3 + (1.5 * IQR)\n",
        "# minimum = Q1 - (1.5 * IQR)\n",
        "\n",
        "# # Handle outliers by capping values that exceed the maximum or fall below the minimum\n",
        "# agg[numeric_columns] = agg[numeric_columns].clip(lower=minimum, upper=maximum, axis=1)\n",
        "\n",
        "# # Display the agg distribution after outlier handling\n",
        "# print('\\nagg Distribution after Outliers being Handled:')\n",
        "# print(agg[numeric_columns].describe())"
      ]
    },
    {
      "cell_type": "code",
      "execution_count": null,
      "metadata": {
        "id": "3LFxw8dO1ITG"
      },
      "outputs": [],
      "source": [
        "# print(agg[numeric_columns].describe())"
      ]
    },
    {
      "cell_type": "code",
      "execution_count": null,
      "metadata": {
        "id": "eXV2audj1ITG"
      },
      "outputs": [],
      "source": [
        "# # mengecek outlier\n",
        "# numeric_columns = agg.select_dtypes(include=['int', 'float']).columns\n",
        "# fig, axs = plt.subplots(ncols=len(numeric_columns), figsize=(50, 15))\n",
        "\n",
        "# for i, column in enumerate(numeric_columns):\n",
        "#     sns.boxplot(y=column, data=agg, ax=axs[i], whis=1.5)\n",
        "\n",
        "#     axs[i].set_title(f'Box Plot for {column}')\n",
        "#     axs[i].set_xlabel('')\n",
        "\n",
        "# plt.tight_layout(pad=0.4, w_pad=0.5, h_pad=5.0)\n",
        "# plt.show()"
      ]
    },
    {
      "cell_type": "code",
      "execution_count": null,
      "metadata": {
        "id": "QNLDekL_XR9A"
      },
      "outputs": [],
      "source": [
        "# # Membagi DF agg sesuai dengan semester(6 bulan) tertentu dalam rentang waktu dari tahun 2015 hingga 2022, berdasarkan kolom '6Month'\n",
        "\n",
        "sixmnt2_15 = agg[agg['6Month'] == '2015S2']\n",
        "\n",
        "# 2016\n",
        "\n",
        "sixmnt1_16 = agg[agg['6Month'] == '2016S1'] #6bulan pertama di 2016\n",
        "sixmnt2_16 = agg[agg['6Month'] == '2016S2'] #6bulan kedua di 2016\n",
        "\n",
        "# 2017\n",
        "\n",
        "sixmnt1_17 = agg[agg['6Month'] == '2017S1']\n",
        "sixmnt2_17 = agg[agg['6Month'] == '2017S2']\n",
        "\n",
        "# 2018\n",
        "\n",
        "sixmnt1_18 = agg[agg['6Month'] == '2018S1']\n",
        "sixmnt2_18 = agg[agg['6Month'] == '2018S2']\n",
        "\n",
        "# 2019\n",
        "\n",
        "sixmnt1_19 = agg[agg['6Month'] == '2019S1']\n",
        "sixmnt2_19 = agg[agg['6Month'] == '2019S2']\n",
        "\n",
        "# 2020\n",
        "\n",
        "sixmnt1_20 = agg[agg['6Month'] == '2020S1']\n",
        "sixmnt2_20 = agg[agg['6Month'] == '2020S2']\n",
        "\n",
        "# 2021\n",
        "\n",
        "sixmnt1_21 = agg[agg['6Month'] == '2021S1']\n",
        "sixmnt2_21 = agg[agg['6Month'] == '2021S2']\n",
        "\n",
        "# 2022\n",
        "\n",
        "sixmnt1_22 = agg[agg['6Month'] == '2022S1']\n",
        "sixmnt2_22 = agg[agg['6Month'] == '2022S2']"
      ]
    },
    {
      "cell_type": "code",
      "execution_count": null,
      "metadata": {
        "colab": {
          "base_uri": "https://localhost:8080/",
          "height": 617
        },
        "id": "qkDILCxS3H20",
        "outputId": "8a9cc413-3278-4e63-b21f-655b127b02af"
      },
      "outputs": [],
      "source": [
        "sixmnt1_22"
      ]
    },
    {
      "cell_type": "code",
      "execution_count": null,
      "metadata": {
        "id": "wb8_Zn9MXvL1"
      },
      "outputs": [],
      "source": [
        "# 2016\n",
        "\n",
        "# 2016\n",
        "churn1_16 = sixmnt2_15.merge(sixmnt1_16[['customer_id', '6Month']], on='customer_id', how='outer')\n",
        "churn1_16.fillna(0, inplace = True)\n",
        "churn1_16['churn'] = churn1_16.apply(sixlabel, axis = 1)\n",
        "\n",
        "# semester2_2016\n",
        "churn2_16 = sixmnt1_16.merge(sixmnt2_16[['customer_id', '6Month']], on='customer_id', how='outer')\n",
        "churn2_16.fillna(0, inplace = True)\n",
        "churn2_16['churn'] = churn1_16.apply(sixlabel, axis = 1)\n",
        "\n",
        "# 2017\n",
        "\n",
        "# semester1_2017\n",
        "churn1_17 = sixmnt2_16.merge(sixmnt1_17[['customer_id', '6Month']], on='customer_id', how='outer')\n",
        "churn1_17.fillna(0, inplace = True)\n",
        "churn1_17['churn'] = churn1_17.apply(sixlabel, axis = 1)\n",
        "\n",
        "# semester2_2017\n",
        "churn2_17 = sixmnt1_17.merge(sixmnt2_17[['customer_id', '6Month']], on='customer_id', how='outer')\n",
        "churn2_17.fillna(0, inplace = True)\n",
        "churn2_17['churn'] = churn2_17.apply(sixlabel, axis = 1)\n",
        "\n",
        "# 2018\n",
        "\n",
        "# semester1_2018\n",
        "churn1_18 = sixmnt2_17.merge(sixmnt1_18[['customer_id', '6Month']], on='customer_id', how='outer')\n",
        "churn1_18.fillna(0, inplace = True)\n",
        "churn1_18['churn'] = churn1_18.apply(sixlabel, axis = 1)\n",
        "\n",
        "# semester2_2018\n",
        "churn2_18 = sixmnt1_18.merge(sixmnt2_18[['customer_id', '6Month']], on='customer_id', how='outer')\n",
        "churn2_18.fillna(0, inplace = True)\n",
        "churn2_18['churn'] = churn2_18.apply(sixlabel, axis = 1)\n",
        "\n",
        "# 2019\n",
        "\n",
        "# semester1_2019\n",
        "churn1_19 = sixmnt2_18.merge(sixmnt1_19[['customer_id', '6Month']], on='customer_id', how='outer')\n",
        "churn1_19.fillna(0, inplace = True)\n",
        "churn1_19['churn'] = churn1_19.apply(sixlabel, axis = 1)\n",
        "\n",
        "# semester2_2019\n",
        "churn2_19 = sixmnt1_19.merge(sixmnt2_19[['customer_id', '6Month']], on='customer_id', how='outer')\n",
        "churn2_19.fillna(0, inplace = True)\n",
        "churn2_19['churn'] = churn2_19.apply(sixlabel, axis = 1)\n",
        "\n",
        "# 2020\n",
        "\n",
        "# semester1_2020\n",
        "churn1_20 = sixmnt2_19.merge(sixmnt1_20[['customer_id', '6Month']], on='customer_id', how='outer')\n",
        "churn1_20.fillna(0, inplace = True)\n",
        "churn1_20['churn'] = churn1_20.apply(sixlabel, axis = 1)\n",
        "\n",
        "# semester2_2020\n",
        "churn2_20 = sixmnt1_20.merge(sixmnt2_20[['customer_id', '6Month']], on='customer_id', how='outer')\n",
        "churn2_20.fillna(0, inplace = True)\n",
        "churn2_20['churn'] = churn2_20.apply(sixlabel, axis = 1)\n",
        "\n",
        "# 2021\n",
        "\n",
        "# semester1_2021\n",
        "churn1_21 = sixmnt2_20.merge(sixmnt1_21[['customer_id', '6Month']], on='customer_id', how='outer')\n",
        "churn1_21.fillna(0, inplace = True)\n",
        "churn1_21['churn'] = churn1_21.apply(sixlabel, axis = 1)\n",
        "\n",
        "# semester2_2021\n",
        "churn2_21 = sixmnt1_21.merge(sixmnt2_21[['customer_id', '6Month']], on='customer_id', how='outer')\n",
        "churn2_21.fillna(0, inplace = True)\n",
        "churn2_21['churn'] = churn2_21.apply(sixlabel, axis = 1)\n",
        "\n",
        "# 2022\n",
        "\n",
        "# semester1_2022\n",
        "churn1_22 = sixmnt2_21.merge(sixmnt1_22[['customer_id', '6Month']], on='customer_id', how='outer')\n",
        "churn1_22.fillna(0, inplace = True)\n",
        "churn1_22['churn'] = churn1_22.apply(sixlabel, axis = 1)\n",
        "\n",
        "# semester2_2022\n",
        "churn2_22 = sixmnt1_22.merge(sixmnt2_22[['customer_id', '6Month']], on='customer_id', how='outer')\n",
        "churn2_22.fillna(0, inplace = True)\n",
        "churn2_22['churn'] = churn2_22.apply(sixlabel, axis = 1)"
      ]
    },
    {
      "cell_type": "code",
      "execution_count": null,
      "metadata": {
        "id": "Q0o5iEj-X2S3"
      },
      "outputs": [],
      "source": [
        "# Menggabungkan Label Churn yang telah dibuat\n",
        "# data2016_6month = churn1_16\n",
        "data2017_6month = pd.concat([churn1_17, churn2_17]).reset_index(drop=True)\n",
        "data2018_6month = pd.concat([churn1_18, churn2_18]).reset_index(drop=True)\n",
        "data2019_6month = pd.concat([churn1_19, churn2_19]).reset_index(drop=True)\n",
        "data2020_6month = pd.concat([churn1_20, churn2_20]).reset_index(drop=True)\n",
        "data2021_6month = pd.concat([churn1_21, churn2_21]).reset_index(drop=True)\n",
        "data2022_6month = pd.concat([churn1_22, churn2_22]).reset_index(drop=True)"
      ]
    },
    {
      "cell_type": "code",
      "execution_count": null,
      "metadata": {
        "colab": {
          "base_uri": "https://localhost:8080/",
          "height": 313
        },
        "id": "LgyIijs8eRuF",
        "outputId": "d96e94a6-9661-40eb-d746-690c15ebcc5a"
      },
      "outputs": [],
      "source": [
        "# Menggabungkan Semua Data\n",
        "final_6month = pd.concat([data2017_6month,data2018_6month,data2019_6month,data2020_6month,data2021_6month,data2022_6month])\n",
        "final_6month.head()"
      ]
    },
    {
      "cell_type": "code",
      "execution_count": null,
      "metadata": {
        "id": "VmTGGSaQx1-j"
      },
      "outputs": [],
      "source": []
    },
    {
      "cell_type": "code",
      "execution_count": null,
      "metadata": {
        "id": "D1jZ-YVcnYOF"
      },
      "outputs": [],
      "source": [
        "final = final_6month.copy()"
      ]
    },
    {
      "cell_type": "code",
      "execution_count": null,
      "metadata": {
        "colab": {
          "base_uri": "https://localhost:8080/"
        },
        "id": "BOKCMrGbx4GN",
        "outputId": "cfd61409-eaa8-47b0-84ec-75775fcd296e"
      },
      "outputs": [],
      "source": [
        "final.info()"
      ]
    },
    {
      "cell_type": "code",
      "execution_count": null,
      "metadata": {
        "colab": {
          "base_uri": "https://localhost:8080/",
          "height": 465
        },
        "id": "XJvr96Kgnhmg",
        "outputId": "782f2156-31e5-4785-f3a9-af19f1c06383"
      },
      "outputs": [],
      "source": [
        "\n",
        "# Pastikan kolom 'churn' bukan indeks dan memiliki tipe data yang benar\n",
        "final.reset_index(inplace=True)\n",
        "final['churn'] = final['churn'].astype(str)  # Konversi ke string jika belum\n",
        "\n",
        "# Buat countplot\n",
        "plt.figure(figsize=(6, 5))\n",
        "sns.countplot(data=final, x='churn')\n",
        "plt.show()\n"
      ]
    },
    {
      "cell_type": "code",
      "execution_count": null,
      "metadata": {
        "colab": {
          "base_uri": "https://localhost:8080/",
          "height": 375
        },
        "id": "P7vRhVL0nhNT",
        "outputId": "809e878b-14fc-485e-df39-33032d6c892d"
      },
      "outputs": [],
      "source": [
        "import matplotlib.pyplot as plt\n",
        "import seaborn as sns\n",
        "\n",
        "# Hitung jumlah churn dan no churn\n",
        "churn_counts = final['churn'].value_counts()\n",
        "\n",
        "# Label dan ukuran untuk pie chart\n",
        "labels = 'Churn', 'No Churn'\n",
        "sizes = [churn_counts[1], churn_counts[0]]\n",
        "explode = (0, 0.1)\n",
        "\n",
        "# Buat pie chart menggunakan Matplotlib dengan gaya Seaborn\n",
        "plt.figure(figsize=(6, 4))\n",
        "sns.set(style=\"whitegrid\")\n",
        "sns.color_palette(\"pastel\")\n",
        "plt.pie(sizes, labels=labels, explode=explode, autopct='%1.1f%%', shadow=True, startangle=90)\n",
        "plt.title(\"Proportion of Customer Churn and No Churn\", size=20)\n",
        "plt.axis('equal')  # Memastikan pie chart berbentuk lingkaran\n",
        "plt.show()\n"
      ]
    },
    {
      "cell_type": "code",
      "execution_count": null,
      "metadata": {
        "id": "dse-13nWKUNd"
      },
      "outputs": [],
      "source": [
        "# counts = master.groupby(['customer_id']).created_at.nunique()\n",
        "# counts.name = 'Number of Previous Visits'"
      ]
    },
    {
      "cell_type": "code",
      "execution_count": null,
      "metadata": {
        "id": "ayLg8SL_KjP8"
      },
      "outputs": [],
      "source": [
        "# y_var = master.groupby(['customer_id']).created_at.max() < '2022-04-30'\n",
        "# y_var.name = 'Churned'"
      ]
    },
    {
      "cell_type": "code",
      "execution_count": null,
      "metadata": {
        "id": "CdanEfqnK7FU"
      },
      "outputs": [],
      "source": [
        "# Dataset = counts.to_frame().join(y_var)\n",
        "# Dataset"
      ]
    },
    {
      "cell_type": "code",
      "execution_count": null,
      "metadata": {
        "id": "kzbEBTfWo6Pe"
      },
      "outputs": [],
      "source": [
        "# # Membagi dataset menjadi data training dan data testing\n",
        "# X = Dataset['Number of Previous Visits'].values.reshape(-1,1)\n",
        "# y = Dataset['Churned']\n",
        "# X_train, X_test, y_train, y_test = train_test_split(X, y, test_size=0.2, random_state=42)\n",
        "\n",
        "# # Membuat model decision tree\n",
        "# clf = DecisionTreeClassifier()\n",
        "\n",
        "# # Melatih model dengan data training\n",
        "# clf.fit(X_train, y_train)\n",
        "\n",
        "# # Memprediksi data testing\n",
        "# y_pred = clf.predict(X_test)\n",
        "\n",
        "# # Menghitung akurasi model\n",
        "# accuracy = accuracy_score(y_test, y_pred)\n",
        "\n",
        "# print(f\"Akurasi model: {accuracy}\")"
      ]
    },
    {
      "cell_type": "markdown",
      "metadata": {
        "id": "1hq2yn4q3Gmg"
      },
      "source": [
        "# **4. Machine Learning**"
      ]
    },
    {
      "cell_type": "markdown",
      "metadata": {
        "id": "dNk_PzeP3MGE"
      },
      "source": [
        "###Baseline Model"
      ]
    },
    {
      "cell_type": "code",
      "execution_count": null,
      "metadata": {
        "id": "fcdmNrcHBSpl"
      },
      "outputs": [],
      "source": [
        "X = final_6month[['freq_transaction','freq_transaction','total_unique_product','total_quantity']]\n",
        "y = final_6month['churn']"
      ]
    },
    {
      "cell_type": "code",
      "execution_count": null,
      "metadata": {
        "colab": {
          "base_uri": "https://localhost:8080/",
          "height": 411
        },
        "id": "082KNbna1ITL",
        "outputId": "ad92f5ab-d746-4d85-a4bc-be8366191024"
      },
      "outputs": [],
      "source": [
        "X_train, X_test, y_train, y_test = train_test_split(X, y, test_size=0.3, random_state=0)\n",
        "logreg = LogisticRegression()\n",
        "\n",
        "X_train= X_train.values.reshape(-1, 1)\n",
        "X_test= X_test.values.reshape(-1, 1)\n",
        "y_train = y_train.values.reshape(-1, 1)\n",
        "y_test = y_test.values.reshape(-1, 1)\n",
        "\n",
        "logreg.fit(X_train, y_train)"
      ]
    },
    {
      "cell_type": "code",
      "execution_count": null,
      "metadata": {
        "id": "I-98Oz8Y66Rg"
      },
      "outputs": [],
      "source": [
        "y_pred = logreg.predict(X_test)\n",
        "print('Accuracy of logistic regression classifier on test set: {:.2f}'.format(logreg.score(X_test, y_test)))"
      ]
    },
    {
      "cell_type": "markdown",
      "metadata": {
        "id": "5AdFrvNP3Oo8"
      },
      "source": [
        "###Hyperparameter Tunning"
      ]
    },
    {
      "cell_type": "code",
      "execution_count": null,
      "metadata": {
        "id": "fuKsz7tSBTOh"
      },
      "outputs": [],
      "source": []
    },
    {
      "cell_type": "markdown",
      "metadata": {
        "id": "J_ztHZjG3Yh5"
      },
      "source": [
        "###Cross Validation"
      ]
    },
    {
      "cell_type": "code",
      "execution_count": null,
      "metadata": {
        "id": "e9rS4xCwBT-r"
      },
      "outputs": [],
      "source": []
    }
  ],
  "metadata": {
    "accelerator": "TPU",
    "colab": {
      "collapsed_sections": [
        "dNk_PzeP3MGE"
      ],
      "machine_shape": "hm",
      "provenance": []
    },
    "kernelspec": {
      "display_name": "Python 3",
      "name": "python3"
    },
    "language_info": {
      "codemirror_mode": {
        "name": "ipython",
        "version": 3
      },
      "file_extension": ".py",
      "mimetype": "text/x-python",
      "name": "python",
      "nbconvert_exporter": "python",
      "pygments_lexer": "ipython3",
      "version": "3.10.12"
    }
  },
  "nbformat": 4,
  "nbformat_minor": 0
}
